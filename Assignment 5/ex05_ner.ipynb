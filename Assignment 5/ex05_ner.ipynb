{
  "cells": [
    {
      "cell_type": "markdown",
      "metadata": {
        "id": "aLR8TFkuiJl2"
      },
      "source": [
        "# Ex05 NER"
      ]
    },
    {
      "cell_type": "code",
      "execution_count": 1,
      "metadata": {
        "colab": {
          "base_uri": "https://localhost:8080/"
        },
        "id": "bhbTfp8lkyPP",
        "outputId": "46388812-5bf4-45dc-bdde-d9f3e57311c6"
      },
      "outputs": [
        {
          "name": "stdout",
          "output_type": "stream",
          "text": [
            "Requirement already satisfied: accelerate in /usr/local/lib/python3.10/dist-packages (0.25.0)\n",
            "Requirement already satisfied: numpy>=1.17 in /usr/local/lib/python3.10/dist-packages (from accelerate) (1.23.5)\n",
            "Requirement already satisfied: packaging>=20.0 in /usr/local/lib/python3.10/dist-packages (from accelerate) (23.2)\n",
            "Requirement already satisfied: psutil in /usr/local/lib/python3.10/dist-packages (from accelerate) (5.9.5)\n",
            "Requirement already satisfied: pyyaml in /usr/local/lib/python3.10/dist-packages (from accelerate) (6.0.1)\n",
            "Requirement already satisfied: torch>=1.10.0 in /usr/local/lib/python3.10/dist-packages (from accelerate) (2.1.0+cu118)\n",
            "Requirement already satisfied: huggingface-hub in /usr/local/lib/python3.10/dist-packages (from accelerate) (0.19.4)\n",
            "Requirement already satisfied: safetensors>=0.3.1 in /usr/local/lib/python3.10/dist-packages (from accelerate) (0.4.1)\n",
            "Requirement already satisfied: filelock in /usr/local/lib/python3.10/dist-packages (from torch>=1.10.0->accelerate) (3.13.1)\n",
            "Requirement already satisfied: typing-extensions in /usr/local/lib/python3.10/dist-packages (from torch>=1.10.0->accelerate) (4.5.0)\n",
            "Requirement already satisfied: sympy in /usr/local/lib/python3.10/dist-packages (from torch>=1.10.0->accelerate) (1.12)\n",
            "Requirement already satisfied: networkx in /usr/local/lib/python3.10/dist-packages (from torch>=1.10.0->accelerate) (3.2.1)\n",
            "Requirement already satisfied: jinja2 in /usr/local/lib/python3.10/dist-packages (from torch>=1.10.0->accelerate) (3.1.2)\n",
            "Requirement already satisfied: fsspec in /usr/local/lib/python3.10/dist-packages (from torch>=1.10.0->accelerate) (2023.6.0)\n",
            "Requirement already satisfied: triton==2.1.0 in /usr/local/lib/python3.10/dist-packages (from torch>=1.10.0->accelerate) (2.1.0)\n",
            "Requirement already satisfied: requests in /usr/local/lib/python3.10/dist-packages (from huggingface-hub->accelerate) (2.31.0)\n",
            "Requirement already satisfied: tqdm>=4.42.1 in /usr/local/lib/python3.10/dist-packages (from huggingface-hub->accelerate) (4.66.1)\n",
            "Requirement already satisfied: MarkupSafe>=2.0 in /usr/local/lib/python3.10/dist-packages (from jinja2->torch>=1.10.0->accelerate) (2.1.3)\n",
            "Requirement already satisfied: charset-normalizer<4,>=2 in /usr/local/lib/python3.10/dist-packages (from requests->huggingface-hub->accelerate) (3.3.2)\n",
            "Requirement already satisfied: idna<4,>=2.5 in /usr/local/lib/python3.10/dist-packages (from requests->huggingface-hub->accelerate) (3.6)\n",
            "Requirement already satisfied: urllib3<3,>=1.21.1 in /usr/local/lib/python3.10/dist-packages (from requests->huggingface-hub->accelerate) (2.0.7)\n",
            "Requirement already satisfied: certifi>=2017.4.17 in /usr/local/lib/python3.10/dist-packages (from requests->huggingface-hub->accelerate) (2023.11.17)\n",
            "Requirement already satisfied: mpmath>=0.19 in /usr/local/lib/python3.10/dist-packages (from sympy->torch>=1.10.0->accelerate) (1.3.0)\n"
          ]
        }
      ],
      "source": [
        "%pip install --upgrade accelerate"
      ]
    },
    {
      "cell_type": "markdown",
      "metadata": {
        "id": "rMcxY03sky8o"
      },
      "source": [
        "### !! NOTE: Please restart the code execution program now.   \n",
        "After installing this 'accelerate' library, the colab can't directly recognize it, we need to restart the kernel. (But please don't disconnect the runtime. )"
      ]
    },
    {
      "cell_type": "code",
      "execution_count": 2,
      "metadata": {
        "id": "e8FDhSYPiJl6"
      },
      "outputs": [],
      "source": [
        "import torch\n",
        "import numpy as np\n",
        "import pandas as pd\n",
        "import nltk\n",
        "import torch.nn as nn\n",
        "import torch.nn.functional as F\n",
        "import copy"
      ]
    },
    {
      "cell_type": "code",
      "execution_count": 3,
      "metadata": {
        "colab": {
          "base_uri": "https://localhost:8080/"
        },
        "id": "z3t1LX1miJl7",
        "outputId": "821bd568-e148-4cda-e5be-a6ff01438ea8"
      },
      "outputs": [
        {
          "name": "stdout",
          "output_type": "stream",
          "text": [
            "Requirement already satisfied: datasets in /usr/local/lib/python3.10/dist-packages (2.15.0)\n",
            "Requirement already satisfied: numpy>=1.17 in /usr/local/lib/python3.10/dist-packages (from datasets) (1.23.5)\n",
            "Requirement already satisfied: pyarrow>=8.0.0 in /usr/local/lib/python3.10/dist-packages (from datasets) (9.0.0)\n",
            "Requirement already satisfied: pyarrow-hotfix in /usr/local/lib/python3.10/dist-packages (from datasets) (0.6)\n",
            "Requirement already satisfied: dill<0.3.8,>=0.3.0 in /usr/local/lib/python3.10/dist-packages (from datasets) (0.3.7)\n",
            "Requirement already satisfied: pandas in /usr/local/lib/python3.10/dist-packages (from datasets) (1.5.3)\n",
            "Requirement already satisfied: requests>=2.19.0 in /usr/local/lib/python3.10/dist-packages (from datasets) (2.31.0)\n",
            "Requirement already satisfied: tqdm>=4.62.1 in /usr/local/lib/python3.10/dist-packages (from datasets) (4.66.1)\n",
            "Requirement already satisfied: xxhash in /usr/local/lib/python3.10/dist-packages (from datasets) (3.4.1)\n",
            "Requirement already satisfied: multiprocess in /usr/local/lib/python3.10/dist-packages (from datasets) (0.70.15)\n",
            "Requirement already satisfied: fsspec[http]<=2023.10.0,>=2023.1.0 in /usr/local/lib/python3.10/dist-packages (from datasets) (2023.6.0)\n",
            "Requirement already satisfied: aiohttp in /usr/local/lib/python3.10/dist-packages (from datasets) (3.9.1)\n",
            "Requirement already satisfied: huggingface-hub>=0.18.0 in /usr/local/lib/python3.10/dist-packages (from datasets) (0.19.4)\n",
            "Requirement already satisfied: packaging in /usr/local/lib/python3.10/dist-packages (from datasets) (23.2)\n",
            "Requirement already satisfied: pyyaml>=5.1 in /usr/local/lib/python3.10/dist-packages (from datasets) (6.0.1)\n",
            "Requirement already satisfied: attrs>=17.3.0 in /usr/local/lib/python3.10/dist-packages (from aiohttp->datasets) (23.1.0)\n",
            "Requirement already satisfied: multidict<7.0,>=4.5 in /usr/local/lib/python3.10/dist-packages (from aiohttp->datasets) (6.0.4)\n",
            "Requirement already satisfied: yarl<2.0,>=1.0 in /usr/local/lib/python3.10/dist-packages (from aiohttp->datasets) (1.9.3)\n",
            "Requirement already satisfied: frozenlist>=1.1.1 in /usr/local/lib/python3.10/dist-packages (from aiohttp->datasets) (1.4.0)\n",
            "Requirement already satisfied: aiosignal>=1.1.2 in /usr/local/lib/python3.10/dist-packages (from aiohttp->datasets) (1.3.1)\n",
            "Requirement already satisfied: async-timeout<5.0,>=4.0 in /usr/local/lib/python3.10/dist-packages (from aiohttp->datasets) (4.0.3)\n",
            "Requirement already satisfied: filelock in /usr/local/lib/python3.10/dist-packages (from huggingface-hub>=0.18.0->datasets) (3.13.1)\n",
            "Requirement already satisfied: typing-extensions>=3.7.4.3 in /usr/local/lib/python3.10/dist-packages (from huggingface-hub>=0.18.0->datasets) (4.5.0)\n",
            "Requirement already satisfied: charset-normalizer<4,>=2 in /usr/local/lib/python3.10/dist-packages (from requests>=2.19.0->datasets) (3.3.2)\n",
            "Requirement already satisfied: idna<4,>=2.5 in /usr/local/lib/python3.10/dist-packages (from requests>=2.19.0->datasets) (3.6)\n",
            "Requirement already satisfied: urllib3<3,>=1.21.1 in /usr/local/lib/python3.10/dist-packages (from requests>=2.19.0->datasets) (2.0.7)\n",
            "Requirement already satisfied: certifi>=2017.4.17 in /usr/local/lib/python3.10/dist-packages (from requests>=2.19.0->datasets) (2023.11.17)\n",
            "Requirement already satisfied: python-dateutil>=2.8.1 in /usr/local/lib/python3.10/dist-packages (from pandas->datasets) (2.8.2)\n",
            "Requirement already satisfied: pytz>=2020.1 in /usr/local/lib/python3.10/dist-packages (from pandas->datasets) (2023.3.post1)\n",
            "Requirement already satisfied: six>=1.5 in /usr/local/lib/python3.10/dist-packages (from python-dateutil>=2.8.1->pandas->datasets) (1.16.0)\n"
          ]
        }
      ],
      "source": [
        "%pip install datasets\n",
        "import datasets"
      ]
    },
    {
      "cell_type": "markdown",
      "metadata": {
        "id": "IucHY7WXiJl7"
      },
      "source": [
        "## DATA"
      ]
    },
    {
      "cell_type": "code",
      "execution_count": 4,
      "metadata": {
        "id": "rEpejOtfiJl8"
      },
      "outputs": [],
      "source": [
        "from datasets import load_dataset\n",
        "\n",
        "dataset = load_dataset(\"polyglot_ner\", split=\"train[:6000]\", name=\"de\", )"
      ]
    },
    {
      "cell_type": "markdown",
      "metadata": {
        "id": "ERDAE6CPiJl9"
      },
      "source": [
        ">  Choose one language to work with from that dataset. The following conditions need to hold for the language\n",
        "\n",
        "Language we choose: German (548k sents)"
      ]
    },
    {
      "cell_type": "code",
      "execution_count": 302,
      "metadata": {
        "colab": {
          "base_uri": "https://localhost:8080/"
        },
        "id": "49Eprho2iJl9",
        "outputId": "8543c489-cd5c-4450-e82b-db99a437f449"
      },
      "outputs": [
        {
          "name": "stderr",
          "output_type": "stream",
          "text": [
            "Some weights of the model checkpoint at bert-base-german-cased were not used when initializing BertForTokenClassification: ['cls.seq_relationship.bias', 'cls.predictions.transform.LayerNorm.weight', 'cls.predictions.bias', 'cls.predictions.transform.LayerNorm.bias', 'cls.predictions.decoder.weight', 'cls.seq_relationship.weight', 'cls.predictions.transform.dense.bias', 'cls.predictions.transform.dense.weight']\n",
            "- This IS expected if you are initializing BertForTokenClassification from the checkpoint of a model trained on another task or with another architecture (e.g. initializing a BertForSequenceClassification model from a BertForPreTraining model).\n",
            "- This IS NOT expected if you are initializing BertForTokenClassification from the checkpoint of a model that you expect to be exactly identical (initializing a BertForSequenceClassification model from a BertForSequenceClassification model).\n",
            "Some weights of BertForTokenClassification were not initialized from the model checkpoint at bert-base-german-cased and are newly initialized: ['classifier.bias', 'classifier.weight']\n",
            "You should probably TRAIN this model on a down-stream task to be able to use it for predictions and inference.\n"
          ]
        }
      ],
      "source": [
        "# Load model directly\n",
        "from transformers import AutoTokenizer, BertForTokenClassification, BertTokenizerFast\n",
        "\n",
        "tokenizer = AutoTokenizer.from_pretrained(\"bert-base-german-cased\")\n",
        "model = BertForTokenClassification.from_pretrained(\"bert-base-german-cased\", num_labels=5)\n"
      ]
    },
    {
      "cell_type": "code",
      "execution_count": 6,
      "metadata": {
        "colab": {
          "base_uri": "https://localhost:8080/"
        },
        "id": "dDkZwH3ciJl9",
        "outputId": "d950f63d-c5ff-43f4-d910-1c5a8c7bdd7b"
      },
      "outputs": [
        {
          "name": "stdout",
          "output_type": "stream",
          "text": [
            "['LOC' 'O' 'ORG' 'PER']\n"
          ]
        }
      ],
      "source": [
        "# check unique labels\n",
        "r = []\n",
        "for y in dataset['ner']:\n",
        "    r.extend([np.unique(x) for x in y])\n",
        "print(np.unique(r))"
      ]
    },
    {
      "cell_type": "code",
      "execution_count": 7,
      "metadata": {
        "colab": {
          "base_uri": "https://localhost:8080/"
        },
        "id": "592c8Q81iJl-",
        "outputId": "b0d20a78-e201-47fe-a094-baf43f8b4820"
      },
      "outputs": [
        {
          "data": {
            "text/plain": [
              "({0: 'PAD', 1: 'LOC', 2: 'O', 3: 'ORG', 4: 'PER'},\n",
              " {'PAD': 0, 'LOC': 1, 'O': 2, 'ORG': 3, 'PER': 4},\n",
              " {0: 'PAD', 1: 'LOC', 2: 'O', 3: 'ORG', 4: 'PER'},\n",
              " {'PAD': 0, 'LOC': 1, 'O': 2, 'ORG': 3, 'PER': 4})"
            ]
          },
          "execution_count": 7,
          "metadata": {},
          "output_type": "execute_result"
        }
      ],
      "source": [
        "# Set model config id to labels mapping, here a padding label is added for the label padding.\n",
        "id2label = model.config.id2label = {0:'PAD', 1: 'LOC', 2: 'O', 3: 'ORG', 4: 'PER'}\n",
        "label2id = model.config.label2id = {model.config.id2label[x]: x for x in id2label.keys()}\n",
        "id2label, label2id, model.config.id2label, model.config.label2id"
      ]
    },
    {
      "cell_type": "code",
      "execution_count": 8,
      "metadata": {
        "id": "pNV_fnu-iJl-"
      },
      "outputs": [],
      "source": [
        "# transform the text label to integer (encoding).\n",
        "dataset = dataset.add_column(name='label', column=[[label2id[x] for x in labels] for labels in dataset['ner']])"
      ]
    },
    {
      "cell_type": "code",
      "execution_count": 9,
      "metadata": {
        "id": "e7SD74WEiJl-"
      },
      "outputs": [],
      "source": [
        "# transfer data into tokens (input_ids, attention_mask)\n",
        "def tokenize(data):\n",
        "    return tokenizer(data['words'],\n",
        "                     return_tensors='pt',\n",
        "                     truncation=True,\n",
        "                     padding='max_length',\n",
        "                     max_length=128,\n",
        "                     return_attention_mask=True,\n",
        "                     is_split_into_words=True,\n",
        "                     )\n",
        "dataset = dataset.map(tokenize, batched=True)\n",
        "# tokenized = [tokenize(data) for data in dataset]"
      ]
    },
    {
      "cell_type": "code",
      "execution_count": 11,
      "metadata": {
        "colab": {
          "base_uri": "https://localhost:8080/",
          "height": 49,
          "referenced_widgets": [
            "db9c839985d340f88b42c0ab1cb291e4",
            "2d19b825cf724bb0a90012d5d53b49c7",
            "9765ac37e274487ba5dda7fad08dd999",
            "c6de86c63037490a8f1d1aa66e7fb611",
            "66d0b2c357444b4f9567040645c38997",
            "20c47f53d56a44e6a1ddf49077de2b4b",
            "2eeef814238a499d87b5320ee6623f7e",
            "66473ddc99f44ca692733ab73e803ad6",
            "a104f8ce31084d39852363954dfda219",
            "b909eba7dd8046cb8558ea6721eb7d5b",
            "453701f7a610403b83b0250462af0d52"
          ]
        },
        "id": "FHHBZtlIiJl-",
        "outputId": "9b5a926c-1c55-4279-fa11-55fb7fd19689"
      },
      "outputs": [
        {
          "data": {
            "application/vnd.jupyter.widget-view+json": {
              "model_id": "db9c839985d340f88b42c0ab1cb291e4",
              "version_major": 2,
              "version_minor": 0
            },
            "text/plain": [
              "Map:   0%|          | 0/6000 [00:00<?, ? examples/s]"
            ]
          },
          "metadata": {},
          "output_type": "display_data"
        }
      ],
      "source": [
        "# adjust label encodings to the same length\n",
        "def pad_labels(data):\n",
        "    max_length = 128\n",
        "    labels = data['label'][:max_length]\n",
        "    data['label'] = labels + [0] * (max_length - len(labels))\n",
        "    return data\n",
        "\n",
        "dataset = dataset.map(pad_labels)"
      ]
    },
    {
      "cell_type": "code",
      "execution_count": 12,
      "metadata": {
        "colab": {
          "base_uri": "https://localhost:8080/"
        },
        "id": "tbEIeY4uiJl_",
        "outputId": "e772c8f6-369a-4b82-e3f3-70cf7ed4c488"
      },
      "outputs": [
        {
          "data": {
            "text/plain": [
              "(array([128]), array([128]))"
            ]
          },
          "execution_count": 12,
          "metadata": {},
          "output_type": "execute_result"
        }
      ],
      "source": [
        "# make sure all data samples have the same length\n",
        "np.unique([len(x) for x in dataset['input_ids']]) , np.unique([len(x) for x in dataset['label']]),"
      ]
    },
    {
      "cell_type": "markdown",
      "metadata": {
        "id": "vLIrX662iJl_"
      },
      "source": [
        "## Part 1"
      ]
    },
    {
      "cell_type": "code",
      "execution_count": 13,
      "metadata": {
        "id": "_7Dl7RwliJl_"
      },
      "outputs": [],
      "source": [
        "from datasets import Dataset\n",
        "# prepare datasets for the following 3 tasks: 1000 training data; 3000 training data; 2000 evaluation data\n",
        "train_1k, train_3k, eval_2k = Dataset.from_dict(dataset[:1000]), Dataset.from_dict(dataset[1000:4000]), Dataset.from_dict(dataset[4000:6000])"
      ]
    },
    {
      "cell_type": "markdown",
      "metadata": {
        "id": "1W9dAaE4iJl_"
      },
      "source": [
        "### Fine-tuned with 1,000 sentences"
      ]
    },
    {
      "cell_type": "code",
      "execution_count": 15,
      "metadata": {
        "id": "dKPa1JVDiJl_"
      },
      "outputs": [],
      "source": [
        "task = 'Version-1000'"
      ]
    },
    {
      "cell_type": "code",
      "execution_count": 16,
      "metadata": {
        "id": "A-HN8g9aiJl_"
      },
      "outputs": [],
      "source": [
        "\n",
        "from sklearn.metrics import f1_score, accuracy_score\n"
      ]
    },
    {
      "cell_type": "code",
      "execution_count": 17,
      "metadata": {
        "id": "EMQWTqZWiJl_"
      },
      "outputs": [],
      "source": [
        "# define f1_micro, f1_macro, accuracy metrics computings\n",
        "def compute_metrics(eval_pred):\n",
        "    logits, labels = eval_pred\n",
        "    predictions = np.argmax(logits, axis=-1)\n",
        "    # print(labels, predictions)\n",
        "    y_true_list = []\n",
        "    y_pred_list = []\n",
        "    for y_true, y_pred in zip(labels, predictions):\n",
        "      y_true = [label for label in y_true if label != 0]\n",
        "      y_pred = y_pred[:len(y_true)]\n",
        "      y_true_list.extend(y_true)\n",
        "      y_pred_list.extend(y_pred)\n",
        "\n",
        "\n",
        "    f1_micro = f1_score(y_true_list, y_pred_list, average='micro')\n",
        "    f1_macro = f1_score(y_true_list, y_pred_list, average='macro')\n",
        "    accuracy = accuracy_score(y_true_list, y_pred_list)\n",
        "    return {\n",
        "        'f1_micro': f1_micro,\n",
        "        'f1_macro': f1_macro,\n",
        "        'accuracy': accuracy,\n",
        "    }"
      ]
    },
    {
      "cell_type": "code",
      "execution_count": 18,
      "metadata": {
        "id": "B45C0zAriJl_"
      },
      "outputs": [],
      "source": [
        "# choose device\n",
        "if torch.backends.cuda.is_built() :\n",
        "  device = \"cuda:0\"\n",
        "  torch.cuda.set_device(device)\n",
        "else :\n",
        "  device = \"cpu\"\n"
      ]
    },
    {
      "cell_type": "code",
      "execution_count": 19,
      "metadata": {
        "id": "PHEZEFlziJmA"
      },
      "outputs": [],
      "source": [
        "from transformers import TrainingArguments, Trainer, DataCollatorForTokenClassification\n",
        "\n",
        "# set args for model\n",
        "training_args = TrainingArguments(\n",
        "    # use_mps_device=True,\n",
        "    output_dir=f\"./results/{task}\",\n",
        "    overwrite_output_dir=True,\n",
        "    num_train_epochs=3,\n",
        "    per_device_train_batch_size=8,\n",
        "    learning_rate=5e-5,\n",
        "\n",
        "    save_steps=50,\n",
        "    save_total_limit=5,\n",
        "    logging_dir=\"./logs\",\n",
        "    logging_steps=50,\n",
        "    evaluation_strategy=\"steps\",\n",
        "    eval_steps=50,\n",
        "\n",
        "    do_train=True,\n",
        "    do_eval=True,\n",
        "    load_best_model_at_end=True,\n",
        "    report_to=\"tensorboard\",\n",
        "    )"
      ]
    },
    {
      "cell_type": "code",
      "execution_count": 20,
      "metadata": {
        "id": "ZfJcTI_diJmA"
      },
      "outputs": [],
      "source": [
        "# use deepcopy of the intitial model\n",
        "trainer = Trainer(\n",
        "    model=copy.deepcopy(model),\n",
        "    args=training_args,\n",
        "    train_dataset=train_1k,\n",
        "    eval_dataset=eval_2k,\n",
        "    compute_metrics=compute_metrics,\n",
        "    tokenizer=tokenizer,\n",
        ")"
      ]
    },
    {
      "cell_type": "code",
      "execution_count": 21,
      "metadata": {
        "colab": {
          "base_uri": "https://localhost:8080/",
          "height": 386
        },
        "id": "pVnkiiD0iJmA",
        "outputId": "3de34427-59b0-4225-cc23-e27885592410"
      },
      "outputs": [
        {
          "name": "stderr",
          "output_type": "stream",
          "text": [
            "You're using a BertTokenizerFast tokenizer. Please note that with a fast tokenizer, using the `__call__` method is faster than using a method to encode the text followed by a call to the `pad` method to get a padded encoding.\n"
          ]
        },
        {
          "data": {
            "text/html": [
              "\n",
              "    <div>\n",
              "      \n",
              "      <progress value='375' max='375' style='width:300px; height:20px; vertical-align: middle;'></progress>\n",
              "      [375/375 03:54, Epoch 3/3]\n",
              "    </div>\n",
              "    <table border=\"1\" class=\"dataframe\">\n",
              "  <thead>\n",
              " <tr style=\"text-align: left;\">\n",
              "      <th>Step</th>\n",
              "      <th>Training Loss</th>\n",
              "      <th>Validation Loss</th>\n",
              "      <th>F1 Micro</th>\n",
              "      <th>F1 Macro</th>\n",
              "      <th>Accuracy</th>\n",
              "    </tr>\n",
              "  </thead>\n",
              "  <tbody>\n",
              "    <tr>\n",
              "      <td>50</td>\n",
              "      <td>0.195000</td>\n",
              "      <td>0.070929</td>\n",
              "      <td>0.893904</td>\n",
              "      <td>0.189072</td>\n",
              "      <td>0.893904</td>\n",
              "    </tr>\n",
              "    <tr>\n",
              "      <td>100</td>\n",
              "      <td>0.073600</td>\n",
              "      <td>0.063480</td>\n",
              "      <td>0.893318</td>\n",
              "      <td>0.259725</td>\n",
              "      <td>0.893318</td>\n",
              "    </tr>\n",
              "    <tr>\n",
              "      <td>150</td>\n",
              "      <td>0.052400</td>\n",
              "      <td>0.057637</td>\n",
              "      <td>0.896331</td>\n",
              "      <td>0.308275</td>\n",
              "      <td>0.896331</td>\n",
              "    </tr>\n",
              "    <tr>\n",
              "      <td>200</td>\n",
              "      <td>0.048600</td>\n",
              "      <td>0.056499</td>\n",
              "      <td>0.915999</td>\n",
              "      <td>0.304018</td>\n",
              "      <td>0.915999</td>\n",
              "    </tr>\n",
              "    <tr>\n",
              "      <td>250</td>\n",
              "      <td>0.041900</td>\n",
              "      <td>0.050377</td>\n",
              "      <td>0.909332</td>\n",
              "      <td>0.274644</td>\n",
              "      <td>0.909332</td>\n",
              "    </tr>\n",
              "    <tr>\n",
              "      <td>300</td>\n",
              "      <td>0.032700</td>\n",
              "      <td>0.052407</td>\n",
              "      <td>0.909778</td>\n",
              "      <td>0.320300</td>\n",
              "      <td>0.909778</td>\n",
              "    </tr>\n",
              "    <tr>\n",
              "      <td>350</td>\n",
              "      <td>0.026800</td>\n",
              "      <td>0.052344</td>\n",
              "      <td>0.908690</td>\n",
              "      <td>0.335643</td>\n",
              "      <td>0.908690</td>\n",
              "    </tr>\n",
              "  </tbody>\n",
              "</table><p>"
            ],
            "text/plain": [
              "<IPython.core.display.HTML object>"
            ]
          },
          "metadata": {},
          "output_type": "display_data"
        },
        {
          "data": {
            "text/plain": [
              "TrainOutput(global_step=375, training_loss=0.06464618968963623, metrics={'train_runtime': 235.4371, 'train_samples_per_second': 12.742, 'train_steps_per_second': 1.593, 'total_flos': 195977882880000.0, 'train_loss': 0.06464618968963623, 'epoch': 3.0})"
            ]
          },
          "execution_count": 21,
          "metadata": {},
          "output_type": "execute_result"
        }
      ],
      "source": [
        "trainer.train()"
      ]
    },
    {
      "cell_type": "code",
      "execution_count": 22,
      "metadata": {
        "colab": {
          "base_uri": "https://localhost:8080/",
          "height": 17
        },
        "id": "p-JltXIXtpNu",
        "outputId": "93bf9b47-27b8-452d-8555-6268eecb3fad"
      },
      "outputs": [
        {
          "data": {
            "text/html": [],
            "text/plain": [
              "<IPython.core.display.HTML object>"
            ]
          },
          "metadata": {},
          "output_type": "display_data"
        }
      ],
      "source": [
        "outputs = trainer.predict(eval_2k)"
      ]
    },
    {
      "cell_type": "code",
      "execution_count": 23,
      "metadata": {
        "colab": {
          "base_uri": "https://localhost:8080/"
        },
        "id": "ixlho2jTuMsf",
        "outputId": "177cbeca-39f9-4485-f97d-178707cb1bab"
      },
      "outputs": [
        {
          "data": {
            "text/plain": [
              "{'f1_micro': 0.9093318454456689,\n",
              " 'f1_macro': 0.2746443834543513,\n",
              " 'accuracy': 0.9093318454456688}"
            ]
          },
          "execution_count": 23,
          "metadata": {},
          "output_type": "execute_result"
        }
      ],
      "source": [
        "compute_metrics((outputs.predictions, outputs.label_ids))"
      ]
    },
    {
      "cell_type": "markdown",
      "metadata": {
        "id": "V19FomC7vJ-C"
      },
      "source": [
        "### Fine-tuned with 3,000 sentences"
      ]
    },
    {
      "cell_type": "code",
      "execution_count": null,
      "metadata": {},
      "outputs": [],
      "source": [
        "task = 'Version-3000'"
      ]
    },
    {
      "cell_type": "code",
      "execution_count": 24,
      "metadata": {
        "id": "xGuAWT-ovQBq"
      },
      "outputs": [],
      "source": [
        "# use deepcopy of the intitial model\n",
        "trainer = Trainer(\n",
        "    model=copy.deepcopy(model),\n",
        "    args=training_args,\n",
        "    train_dataset=train_3k,\n",
        "    eval_dataset=eval_2k,\n",
        "    compute_metrics=compute_metrics,\n",
        "    tokenizer=tokenizer,\n",
        ")"
      ]
    },
    {
      "cell_type": "code",
      "execution_count": 25,
      "metadata": {
        "colab": {
          "base_uri": "https://localhost:8080/",
          "height": 819
        },
        "id": "Th_sXCVEiJmC",
        "outputId": "d848be3f-42a7-443b-e964-0bb728dc1849"
      },
      "outputs": [
        {
          "data": {
            "text/html": [
              "\n",
              "    <div>\n",
              "      \n",
              "      <progress value='1125' max='1125' style='width:300px; height:20px; vertical-align: middle;'></progress>\n",
              "      [1125/1125 11:22, Epoch 3/3]\n",
              "    </div>\n",
              "    <table border=\"1\" class=\"dataframe\">\n",
              "  <thead>\n",
              " <tr style=\"text-align: left;\">\n",
              "      <th>Step</th>\n",
              "      <th>Training Loss</th>\n",
              "      <th>Validation Loss</th>\n",
              "      <th>F1 Micro</th>\n",
              "      <th>F1 Macro</th>\n",
              "      <th>Accuracy</th>\n",
              "    </tr>\n",
              "  </thead>\n",
              "  <tbody>\n",
              "    <tr>\n",
              "      <td>50</td>\n",
              "      <td>0.194300</td>\n",
              "      <td>0.074621</td>\n",
              "      <td>0.916585</td>\n",
              "      <td>0.191407</td>\n",
              "      <td>0.916585</td>\n",
              "    </tr>\n",
              "    <tr>\n",
              "      <td>100</td>\n",
              "      <td>0.071100</td>\n",
              "      <td>0.062298</td>\n",
              "      <td>0.896080</td>\n",
              "      <td>0.214839</td>\n",
              "      <td>0.896080</td>\n",
              "    </tr>\n",
              "    <tr>\n",
              "      <td>150</td>\n",
              "      <td>0.063800</td>\n",
              "      <td>0.055763</td>\n",
              "      <td>0.908858</td>\n",
              "      <td>0.213396</td>\n",
              "      <td>0.908858</td>\n",
              "    </tr>\n",
              "    <tr>\n",
              "      <td>200</td>\n",
              "      <td>0.051700</td>\n",
              "      <td>0.050621</td>\n",
              "      <td>0.909332</td>\n",
              "      <td>0.240253</td>\n",
              "      <td>0.909332</td>\n",
              "    </tr>\n",
              "    <tr>\n",
              "      <td>250</td>\n",
              "      <td>0.059300</td>\n",
              "      <td>0.052458</td>\n",
              "      <td>0.918482</td>\n",
              "      <td>0.259189</td>\n",
              "      <td>0.918482</td>\n",
              "    </tr>\n",
              "    <tr>\n",
              "      <td>300</td>\n",
              "      <td>0.047300</td>\n",
              "      <td>0.050202</td>\n",
              "      <td>0.915637</td>\n",
              "      <td>0.332634</td>\n",
              "      <td>0.915637</td>\n",
              "    </tr>\n",
              "    <tr>\n",
              "      <td>350</td>\n",
              "      <td>0.046600</td>\n",
              "      <td>0.045403</td>\n",
              "      <td>0.905036</td>\n",
              "      <td>0.295236</td>\n",
              "      <td>0.905036</td>\n",
              "    </tr>\n",
              "    <tr>\n",
              "      <td>400</td>\n",
              "      <td>0.040200</td>\n",
              "      <td>0.050094</td>\n",
              "      <td>0.881239</td>\n",
              "      <td>0.344633</td>\n",
              "      <td>0.881239</td>\n",
              "    </tr>\n",
              "    <tr>\n",
              "      <td>450</td>\n",
              "      <td>0.037700</td>\n",
              "      <td>0.045806</td>\n",
              "      <td>0.918817</td>\n",
              "      <td>0.382363</td>\n",
              "      <td>0.918817</td>\n",
              "    </tr>\n",
              "    <tr>\n",
              "      <td>500</td>\n",
              "      <td>0.036900</td>\n",
              "      <td>0.042476</td>\n",
              "      <td>0.914019</td>\n",
              "      <td>0.346649</td>\n",
              "      <td>0.914019</td>\n",
              "    </tr>\n",
              "    <tr>\n",
              "      <td>550</td>\n",
              "      <td>0.035900</td>\n",
              "      <td>0.047407</td>\n",
              "      <td>0.885451</td>\n",
              "      <td>0.355116</td>\n",
              "      <td>0.885451</td>\n",
              "    </tr>\n",
              "    <tr>\n",
              "      <td>600</td>\n",
              "      <td>0.037000</td>\n",
              "      <td>0.041926</td>\n",
              "      <td>0.910476</td>\n",
              "      <td>0.306502</td>\n",
              "      <td>0.910476</td>\n",
              "    </tr>\n",
              "    <tr>\n",
              "      <td>650</td>\n",
              "      <td>0.034100</td>\n",
              "      <td>0.037898</td>\n",
              "      <td>0.921328</td>\n",
              "      <td>0.365649</td>\n",
              "      <td>0.921328</td>\n",
              "    </tr>\n",
              "    <tr>\n",
              "      <td>700</td>\n",
              "      <td>0.032500</td>\n",
              "      <td>0.038233</td>\n",
              "      <td>0.926908</td>\n",
              "      <td>0.369513</td>\n",
              "      <td>0.926908</td>\n",
              "    </tr>\n",
              "    <tr>\n",
              "      <td>750</td>\n",
              "      <td>0.033600</td>\n",
              "      <td>0.039083</td>\n",
              "      <td>0.926154</td>\n",
              "      <td>0.386058</td>\n",
              "      <td>0.926154</td>\n",
              "    </tr>\n",
              "    <tr>\n",
              "      <td>800</td>\n",
              "      <td>0.021500</td>\n",
              "      <td>0.037063</td>\n",
              "      <td>0.916278</td>\n",
              "      <td>0.414831</td>\n",
              "      <td>0.916278</td>\n",
              "    </tr>\n",
              "    <tr>\n",
              "      <td>850</td>\n",
              "      <td>0.022100</td>\n",
              "      <td>0.039358</td>\n",
              "      <td>0.925652</td>\n",
              "      <td>0.426365</td>\n",
              "      <td>0.925652</td>\n",
              "    </tr>\n",
              "    <tr>\n",
              "      <td>900</td>\n",
              "      <td>0.023000</td>\n",
              "      <td>0.037638</td>\n",
              "      <td>0.918482</td>\n",
              "      <td>0.419887</td>\n",
              "      <td>0.918482</td>\n",
              "    </tr>\n",
              "    <tr>\n",
              "      <td>950</td>\n",
              "      <td>0.026900</td>\n",
              "      <td>0.037789</td>\n",
              "      <td>0.929167</td>\n",
              "      <td>0.385276</td>\n",
              "      <td>0.929167</td>\n",
              "    </tr>\n",
              "    <tr>\n",
              "      <td>1000</td>\n",
              "      <td>0.020800</td>\n",
              "      <td>0.037855</td>\n",
              "      <td>0.916167</td>\n",
              "      <td>0.420865</td>\n",
              "      <td>0.916167</td>\n",
              "    </tr>\n",
              "    <tr>\n",
              "      <td>1050</td>\n",
              "      <td>0.022400</td>\n",
              "      <td>0.036458</td>\n",
              "      <td>0.920352</td>\n",
              "      <td>0.411402</td>\n",
              "      <td>0.920352</td>\n",
              "    </tr>\n",
              "    <tr>\n",
              "      <td>1100</td>\n",
              "      <td>0.024800</td>\n",
              "      <td>0.036406</td>\n",
              "      <td>0.920100</td>\n",
              "      <td>0.413218</td>\n",
              "      <td>0.920100</td>\n",
              "    </tr>\n",
              "  </tbody>\n",
              "</table><p>"
            ],
            "text/plain": [
              "<IPython.core.display.HTML object>"
            ]
          },
          "metadata": {},
          "output_type": "display_data"
        },
        {
          "data": {
            "text/plain": [
              "TrainOutput(global_step=1125, training_loss=0.04410023824373881, metrics={'train_runtime': 683.1194, 'train_samples_per_second': 13.175, 'train_steps_per_second': 1.647, 'total_flos': 587933648640000.0, 'train_loss': 0.04410023824373881, 'epoch': 3.0})"
            ]
          },
          "execution_count": 25,
          "metadata": {},
          "output_type": "execute_result"
        }
      ],
      "source": [
        "trainer.train()"
      ]
    },
    {
      "cell_type": "code",
      "execution_count": 26,
      "metadata": {
        "colab": {
          "base_uri": "https://localhost:8080/",
          "height": 17
        },
        "id": "3LCAa25LwUSy",
        "outputId": "0564afc2-b2d0-44f0-f60b-98d78e1997a7"
      },
      "outputs": [
        {
          "data": {
            "text/html": [],
            "text/plain": [
              "<IPython.core.display.HTML object>"
            ]
          },
          "metadata": {},
          "output_type": "display_data"
        }
      ],
      "source": [
        "outputs = trainer.predict(eval_2k)"
      ]
    },
    {
      "cell_type": "code",
      "execution_count": 27,
      "metadata": {
        "colab": {
          "base_uri": "https://localhost:8080/"
        },
        "id": "ZeRFE9DUwVqd",
        "outputId": "8e0b3c7e-97b7-4331-85f3-71ee2d48e888"
      },
      "outputs": [
        {
          "data": {
            "text/plain": [
              "{'f1_micro': 0.9201004324173525,\n",
              " 'f1_macro': 0.41321798818924504,\n",
              " 'accuracy': 0.9201004324173525}"
            ]
          },
          "execution_count": 27,
          "metadata": {},
          "output_type": "execute_result"
        }
      ],
      "source": [
        "compute_metrics((outputs.predictions, outputs.label_ids))"
      ]
    },
    {
      "cell_type": "markdown",
      "metadata": {
        "id": "qUBs3EFZwaIK"
      },
      "source": [
        "### Fine-tuned with 3,000 sentences and frozen embeddings"
      ]
    },
    {
      "cell_type": "code",
      "execution_count": null,
      "metadata": {},
      "outputs": [],
      "source": [
        "task = 'Version-3000-frozen'"
      ]
    },
    {
      "cell_type": "code",
      "execution_count": 28,
      "metadata": {
        "id": "4xjkfDgtwgTi"
      },
      "outputs": [],
      "source": [
        "# use deepcopy of the intitial model\n",
        "frozen_model = copy.deepcopy(model)\n",
        "\n",
        "# frozen embeddings\n",
        "for param in frozen_model.base_model.embeddings.parameters():\n",
        "    param.requires_grad = False"
      ]
    },
    {
      "cell_type": "code",
      "execution_count": 29,
      "metadata": {
        "id": "jNCg5jnhwvGj"
      },
      "outputs": [],
      "source": [
        "trainer = Trainer(\n",
        "    model=frozen_model,\n",
        "    args=training_args,\n",
        "    train_dataset=train_3k,\n",
        "    eval_dataset=eval_2k,\n",
        "    compute_metrics=compute_metrics,\n",
        "    tokenizer=tokenizer,\n",
        ")"
      ]
    },
    {
      "cell_type": "code",
      "execution_count": 30,
      "metadata": {
        "colab": {
          "base_uri": "https://localhost:8080/",
          "height": 819
        },
        "id": "pDop4hCFwvGy",
        "outputId": "e56cb0f4-0c96-4829-a7f4-47b65cd44665"
      },
      "outputs": [
        {
          "data": {
            "text/html": [
              "\n",
              "    <div>\n",
              "      \n",
              "      <progress value='1125' max='1125' style='width:300px; height:20px; vertical-align: middle;'></progress>\n",
              "      [1125/1125 10:57, Epoch 3/3]\n",
              "    </div>\n",
              "    <table border=\"1\" class=\"dataframe\">\n",
              "  <thead>\n",
              " <tr style=\"text-align: left;\">\n",
              "      <th>Step</th>\n",
              "      <th>Training Loss</th>\n",
              "      <th>Validation Loss</th>\n",
              "      <th>F1 Micro</th>\n",
              "      <th>F1 Macro</th>\n",
              "      <th>Accuracy</th>\n",
              "    </tr>\n",
              "  </thead>\n",
              "  <tbody>\n",
              "    <tr>\n",
              "      <td>50</td>\n",
              "      <td>0.194700</td>\n",
              "      <td>0.071764</td>\n",
              "      <td>0.914074</td>\n",
              "      <td>0.191555</td>\n",
              "      <td>0.914074</td>\n",
              "    </tr>\n",
              "    <tr>\n",
              "      <td>100</td>\n",
              "      <td>0.070500</td>\n",
              "      <td>0.061466</td>\n",
              "      <td>0.889748</td>\n",
              "      <td>0.220857</td>\n",
              "      <td>0.889748</td>\n",
              "    </tr>\n",
              "    <tr>\n",
              "      <td>150</td>\n",
              "      <td>0.062800</td>\n",
              "      <td>0.055021</td>\n",
              "      <td>0.905008</td>\n",
              "      <td>0.223296</td>\n",
              "      <td>0.905008</td>\n",
              "    </tr>\n",
              "    <tr>\n",
              "      <td>200</td>\n",
              "      <td>0.051900</td>\n",
              "      <td>0.050029</td>\n",
              "      <td>0.914577</td>\n",
              "      <td>0.234236</td>\n",
              "      <td>0.914577</td>\n",
              "    </tr>\n",
              "    <tr>\n",
              "      <td>250</td>\n",
              "      <td>0.060900</td>\n",
              "      <td>0.051193</td>\n",
              "      <td>0.918064</td>\n",
              "      <td>0.260204</td>\n",
              "      <td>0.918064</td>\n",
              "    </tr>\n",
              "    <tr>\n",
              "      <td>300</td>\n",
              "      <td>0.044800</td>\n",
              "      <td>0.048844</td>\n",
              "      <td>0.903417</td>\n",
              "      <td>0.304763</td>\n",
              "      <td>0.903417</td>\n",
              "    </tr>\n",
              "    <tr>\n",
              "      <td>350</td>\n",
              "      <td>0.045900</td>\n",
              "      <td>0.044736</td>\n",
              "      <td>0.908049</td>\n",
              "      <td>0.283990</td>\n",
              "      <td>0.908049</td>\n",
              "    </tr>\n",
              "    <tr>\n",
              "      <td>400</td>\n",
              "      <td>0.039900</td>\n",
              "      <td>0.046062</td>\n",
              "      <td>0.897057</td>\n",
              "      <td>0.337447</td>\n",
              "      <td>0.897057</td>\n",
              "    </tr>\n",
              "    <tr>\n",
              "      <td>450</td>\n",
              "      <td>0.036800</td>\n",
              "      <td>0.042502</td>\n",
              "      <td>0.911982</td>\n",
              "      <td>0.372316</td>\n",
              "      <td>0.911982</td>\n",
              "    </tr>\n",
              "    <tr>\n",
              "      <td>500</td>\n",
              "      <td>0.036500</td>\n",
              "      <td>0.044496</td>\n",
              "      <td>0.910922</td>\n",
              "      <td>0.337136</td>\n",
              "      <td>0.910922</td>\n",
              "    </tr>\n",
              "    <tr>\n",
              "      <td>550</td>\n",
              "      <td>0.037500</td>\n",
              "      <td>0.044860</td>\n",
              "      <td>0.888353</td>\n",
              "      <td>0.365525</td>\n",
              "      <td>0.888353</td>\n",
              "    </tr>\n",
              "    <tr>\n",
              "      <td>600</td>\n",
              "      <td>0.036000</td>\n",
              "      <td>0.040535</td>\n",
              "      <td>0.914549</td>\n",
              "      <td>0.319559</td>\n",
              "      <td>0.914549</td>\n",
              "    </tr>\n",
              "    <tr>\n",
              "      <td>650</td>\n",
              "      <td>0.034200</td>\n",
              "      <td>0.039735</td>\n",
              "      <td>0.902915</td>\n",
              "      <td>0.358747</td>\n",
              "      <td>0.902915</td>\n",
              "    </tr>\n",
              "    <tr>\n",
              "      <td>700</td>\n",
              "      <td>0.032900</td>\n",
              "      <td>0.037493</td>\n",
              "      <td>0.927103</td>\n",
              "      <td>0.376858</td>\n",
              "      <td>0.927103</td>\n",
              "    </tr>\n",
              "    <tr>\n",
              "      <td>750</td>\n",
              "      <td>0.033500</td>\n",
              "      <td>0.039136</td>\n",
              "      <td>0.926266</td>\n",
              "      <td>0.390102</td>\n",
              "      <td>0.926266</td>\n",
              "    </tr>\n",
              "    <tr>\n",
              "      <td>800</td>\n",
              "      <td>0.022300</td>\n",
              "      <td>0.036582</td>\n",
              "      <td>0.919961</td>\n",
              "      <td>0.416940</td>\n",
              "      <td>0.919961</td>\n",
              "    </tr>\n",
              "    <tr>\n",
              "      <td>850</td>\n",
              "      <td>0.022200</td>\n",
              "      <td>0.037741</td>\n",
              "      <td>0.922360</td>\n",
              "      <td>0.428487</td>\n",
              "      <td>0.922360</td>\n",
              "    </tr>\n",
              "    <tr>\n",
              "      <td>900</td>\n",
              "      <td>0.023800</td>\n",
              "      <td>0.037314</td>\n",
              "      <td>0.919961</td>\n",
              "      <td>0.420772</td>\n",
              "      <td>0.919961</td>\n",
              "    </tr>\n",
              "    <tr>\n",
              "      <td>950</td>\n",
              "      <td>0.027300</td>\n",
              "      <td>0.036937</td>\n",
              "      <td>0.927186</td>\n",
              "      <td>0.387177</td>\n",
              "      <td>0.927186</td>\n",
              "    </tr>\n",
              "    <tr>\n",
              "      <td>1000</td>\n",
              "      <td>0.021700</td>\n",
              "      <td>0.036658</td>\n",
              "      <td>0.917534</td>\n",
              "      <td>0.421691</td>\n",
              "      <td>0.917534</td>\n",
              "    </tr>\n",
              "    <tr>\n",
              "      <td>1050</td>\n",
              "      <td>0.022500</td>\n",
              "      <td>0.036059</td>\n",
              "      <td>0.920324</td>\n",
              "      <td>0.412381</td>\n",
              "      <td>0.920324</td>\n",
              "    </tr>\n",
              "    <tr>\n",
              "      <td>1100</td>\n",
              "      <td>0.025400</td>\n",
              "      <td>0.036199</td>\n",
              "      <td>0.921607</td>\n",
              "      <td>0.412404</td>\n",
              "      <td>0.921607</td>\n",
              "    </tr>\n",
              "  </tbody>\n",
              "</table><p>"
            ],
            "text/plain": [
              "<IPython.core.display.HTML object>"
            ]
          },
          "metadata": {},
          "output_type": "display_data"
        },
        {
          "data": {
            "text/plain": [
              "TrainOutput(global_step=1125, training_loss=0.04414169340663486, metrics={'train_runtime': 658.0318, 'train_samples_per_second': 13.677, 'train_steps_per_second': 1.71, 'total_flos': 587933648640000.0, 'train_loss': 0.04414169340663486, 'epoch': 3.0})"
            ]
          },
          "execution_count": 30,
          "metadata": {},
          "output_type": "execute_result"
        }
      ],
      "source": [
        "trainer.train()"
      ]
    },
    {
      "cell_type": "code",
      "execution_count": 31,
      "metadata": {
        "colab": {
          "base_uri": "https://localhost:8080/",
          "height": 17
        },
        "id": "QU6RNTbqwvGz",
        "outputId": "69860867-a802-43b1-f9ee-b3b9711a43a2"
      },
      "outputs": [
        {
          "data": {
            "text/html": [],
            "text/plain": [
              "<IPython.core.display.HTML object>"
            ]
          },
          "metadata": {},
          "output_type": "display_data"
        }
      ],
      "source": [
        "outputs = trainer.predict(eval_2k)"
      ]
    },
    {
      "cell_type": "code",
      "execution_count": 32,
      "metadata": {
        "colab": {
          "base_uri": "https://localhost:8080/"
        },
        "id": "1RtHf3jlwvGz",
        "outputId": "5bc6ff6e-7283-4460-f62a-e0a37e31482c"
      },
      "outputs": [
        {
          "data": {
            "text/plain": [
              "{'f1_micro': 0.9203236155670247,\n",
              " 'f1_macro': 0.4123807323168641,\n",
              " 'accuracy': 0.9203236155670247}"
            ]
          },
          "execution_count": 32,
          "metadata": {},
          "output_type": "execute_result"
        }
      ],
      "source": [
        "compute_metrics((outputs.predictions, outputs.label_ids))"
      ]
    }
  ],
  "metadata": {
    "accelerator": "GPU",
    "colab": {
      "gpuType": "T4",
      "provenance": []
    },
    "kernelspec": {
      "display_name": "Python 3",
      "name": "python3"
    },
    "language_info": {
      "codemirror_mode": {
        "name": "ipython",
        "version": 3
      },
      "file_extension": ".py",
      "mimetype": "text/x-python",
      "name": "python",
      "nbconvert_exporter": "python",
      "pygments_lexer": "ipython3",
      "version": "3.7.16"
    },
    "widgets": {
      "application/vnd.jupyter.widget-state+json": {
        "20c47f53d56a44e6a1ddf49077de2b4b": {
          "model_module": "@jupyter-widgets/base",
          "model_module_version": "1.2.0",
          "model_name": "LayoutModel",
          "state": {
            "_model_module": "@jupyter-widgets/base",
            "_model_module_version": "1.2.0",
            "_model_name": "LayoutModel",
            "_view_count": null,
            "_view_module": "@jupyter-widgets/base",
            "_view_module_version": "1.2.0",
            "_view_name": "LayoutView",
            "align_content": null,
            "align_items": null,
            "align_self": null,
            "border": null,
            "bottom": null,
            "display": null,
            "flex": null,
            "flex_flow": null,
            "grid_area": null,
            "grid_auto_columns": null,
            "grid_auto_flow": null,
            "grid_auto_rows": null,
            "grid_column": null,
            "grid_gap": null,
            "grid_row": null,
            "grid_template_areas": null,
            "grid_template_columns": null,
            "grid_template_rows": null,
            "height": null,
            "justify_content": null,
            "justify_items": null,
            "left": null,
            "margin": null,
            "max_height": null,
            "max_width": null,
            "min_height": null,
            "min_width": null,
            "object_fit": null,
            "object_position": null,
            "order": null,
            "overflow": null,
            "overflow_x": null,
            "overflow_y": null,
            "padding": null,
            "right": null,
            "top": null,
            "visibility": null,
            "width": null
          }
        },
        "2d19b825cf724bb0a90012d5d53b49c7": {
          "model_module": "@jupyter-widgets/controls",
          "model_module_version": "1.5.0",
          "model_name": "HTMLModel",
          "state": {
            "_dom_classes": [],
            "_model_module": "@jupyter-widgets/controls",
            "_model_module_version": "1.5.0",
            "_model_name": "HTMLModel",
            "_view_count": null,
            "_view_module": "@jupyter-widgets/controls",
            "_view_module_version": "1.5.0",
            "_view_name": "HTMLView",
            "description": "",
            "description_tooltip": null,
            "layout": "IPY_MODEL_20c47f53d56a44e6a1ddf49077de2b4b",
            "placeholder": "​",
            "style": "IPY_MODEL_2eeef814238a499d87b5320ee6623f7e",
            "value": "Map: 100%"
          }
        },
        "2eeef814238a499d87b5320ee6623f7e": {
          "model_module": "@jupyter-widgets/controls",
          "model_module_version": "1.5.0",
          "model_name": "DescriptionStyleModel",
          "state": {
            "_model_module": "@jupyter-widgets/controls",
            "_model_module_version": "1.5.0",
            "_model_name": "DescriptionStyleModel",
            "_view_count": null,
            "_view_module": "@jupyter-widgets/base",
            "_view_module_version": "1.2.0",
            "_view_name": "StyleView",
            "description_width": ""
          }
        },
        "453701f7a610403b83b0250462af0d52": {
          "model_module": "@jupyter-widgets/controls",
          "model_module_version": "1.5.0",
          "model_name": "DescriptionStyleModel",
          "state": {
            "_model_module": "@jupyter-widgets/controls",
            "_model_module_version": "1.5.0",
            "_model_name": "DescriptionStyleModel",
            "_view_count": null,
            "_view_module": "@jupyter-widgets/base",
            "_view_module_version": "1.2.0",
            "_view_name": "StyleView",
            "description_width": ""
          }
        },
        "66473ddc99f44ca692733ab73e803ad6": {
          "model_module": "@jupyter-widgets/base",
          "model_module_version": "1.2.0",
          "model_name": "LayoutModel",
          "state": {
            "_model_module": "@jupyter-widgets/base",
            "_model_module_version": "1.2.0",
            "_model_name": "LayoutModel",
            "_view_count": null,
            "_view_module": "@jupyter-widgets/base",
            "_view_module_version": "1.2.0",
            "_view_name": "LayoutView",
            "align_content": null,
            "align_items": null,
            "align_self": null,
            "border": null,
            "bottom": null,
            "display": null,
            "flex": null,
            "flex_flow": null,
            "grid_area": null,
            "grid_auto_columns": null,
            "grid_auto_flow": null,
            "grid_auto_rows": null,
            "grid_column": null,
            "grid_gap": null,
            "grid_row": null,
            "grid_template_areas": null,
            "grid_template_columns": null,
            "grid_template_rows": null,
            "height": null,
            "justify_content": null,
            "justify_items": null,
            "left": null,
            "margin": null,
            "max_height": null,
            "max_width": null,
            "min_height": null,
            "min_width": null,
            "object_fit": null,
            "object_position": null,
            "order": null,
            "overflow": null,
            "overflow_x": null,
            "overflow_y": null,
            "padding": null,
            "right": null,
            "top": null,
            "visibility": null,
            "width": null
          }
        },
        "66d0b2c357444b4f9567040645c38997": {
          "model_module": "@jupyter-widgets/base",
          "model_module_version": "1.2.0",
          "model_name": "LayoutModel",
          "state": {
            "_model_module": "@jupyter-widgets/base",
            "_model_module_version": "1.2.0",
            "_model_name": "LayoutModel",
            "_view_count": null,
            "_view_module": "@jupyter-widgets/base",
            "_view_module_version": "1.2.0",
            "_view_name": "LayoutView",
            "align_content": null,
            "align_items": null,
            "align_self": null,
            "border": null,
            "bottom": null,
            "display": null,
            "flex": null,
            "flex_flow": null,
            "grid_area": null,
            "grid_auto_columns": null,
            "grid_auto_flow": null,
            "grid_auto_rows": null,
            "grid_column": null,
            "grid_gap": null,
            "grid_row": null,
            "grid_template_areas": null,
            "grid_template_columns": null,
            "grid_template_rows": null,
            "height": null,
            "justify_content": null,
            "justify_items": null,
            "left": null,
            "margin": null,
            "max_height": null,
            "max_width": null,
            "min_height": null,
            "min_width": null,
            "object_fit": null,
            "object_position": null,
            "order": null,
            "overflow": null,
            "overflow_x": null,
            "overflow_y": null,
            "padding": null,
            "right": null,
            "top": null,
            "visibility": null,
            "width": null
          }
        },
        "9765ac37e274487ba5dda7fad08dd999": {
          "model_module": "@jupyter-widgets/controls",
          "model_module_version": "1.5.0",
          "model_name": "FloatProgressModel",
          "state": {
            "_dom_classes": [],
            "_model_module": "@jupyter-widgets/controls",
            "_model_module_version": "1.5.0",
            "_model_name": "FloatProgressModel",
            "_view_count": null,
            "_view_module": "@jupyter-widgets/controls",
            "_view_module_version": "1.5.0",
            "_view_name": "ProgressView",
            "bar_style": "success",
            "description": "",
            "description_tooltip": null,
            "layout": "IPY_MODEL_66473ddc99f44ca692733ab73e803ad6",
            "max": 6000,
            "min": 0,
            "orientation": "horizontal",
            "style": "IPY_MODEL_a104f8ce31084d39852363954dfda219",
            "value": 6000
          }
        },
        "a104f8ce31084d39852363954dfda219": {
          "model_module": "@jupyter-widgets/controls",
          "model_module_version": "1.5.0",
          "model_name": "ProgressStyleModel",
          "state": {
            "_model_module": "@jupyter-widgets/controls",
            "_model_module_version": "1.5.0",
            "_model_name": "ProgressStyleModel",
            "_view_count": null,
            "_view_module": "@jupyter-widgets/base",
            "_view_module_version": "1.2.0",
            "_view_name": "StyleView",
            "bar_color": null,
            "description_width": ""
          }
        },
        "b909eba7dd8046cb8558ea6721eb7d5b": {
          "model_module": "@jupyter-widgets/base",
          "model_module_version": "1.2.0",
          "model_name": "LayoutModel",
          "state": {
            "_model_module": "@jupyter-widgets/base",
            "_model_module_version": "1.2.0",
            "_model_name": "LayoutModel",
            "_view_count": null,
            "_view_module": "@jupyter-widgets/base",
            "_view_module_version": "1.2.0",
            "_view_name": "LayoutView",
            "align_content": null,
            "align_items": null,
            "align_self": null,
            "border": null,
            "bottom": null,
            "display": null,
            "flex": null,
            "flex_flow": null,
            "grid_area": null,
            "grid_auto_columns": null,
            "grid_auto_flow": null,
            "grid_auto_rows": null,
            "grid_column": null,
            "grid_gap": null,
            "grid_row": null,
            "grid_template_areas": null,
            "grid_template_columns": null,
            "grid_template_rows": null,
            "height": null,
            "justify_content": null,
            "justify_items": null,
            "left": null,
            "margin": null,
            "max_height": null,
            "max_width": null,
            "min_height": null,
            "min_width": null,
            "object_fit": null,
            "object_position": null,
            "order": null,
            "overflow": null,
            "overflow_x": null,
            "overflow_y": null,
            "padding": null,
            "right": null,
            "top": null,
            "visibility": null,
            "width": null
          }
        },
        "c6de86c63037490a8f1d1aa66e7fb611": {
          "model_module": "@jupyter-widgets/controls",
          "model_module_version": "1.5.0",
          "model_name": "HTMLModel",
          "state": {
            "_dom_classes": [],
            "_model_module": "@jupyter-widgets/controls",
            "_model_module_version": "1.5.0",
            "_model_name": "HTMLModel",
            "_view_count": null,
            "_view_module": "@jupyter-widgets/controls",
            "_view_module_version": "1.5.0",
            "_view_name": "HTMLView",
            "description": "",
            "description_tooltip": null,
            "layout": "IPY_MODEL_b909eba7dd8046cb8558ea6721eb7d5b",
            "placeholder": "​",
            "style": "IPY_MODEL_453701f7a610403b83b0250462af0d52",
            "value": " 6000/6000 [00:02&lt;00:00, 3049.86 examples/s]"
          }
        },
        "db9c839985d340f88b42c0ab1cb291e4": {
          "model_module": "@jupyter-widgets/controls",
          "model_module_version": "1.5.0",
          "model_name": "HBoxModel",
          "state": {
            "_dom_classes": [],
            "_model_module": "@jupyter-widgets/controls",
            "_model_module_version": "1.5.0",
            "_model_name": "HBoxModel",
            "_view_count": null,
            "_view_module": "@jupyter-widgets/controls",
            "_view_module_version": "1.5.0",
            "_view_name": "HBoxView",
            "box_style": "",
            "children": [
              "IPY_MODEL_2d19b825cf724bb0a90012d5d53b49c7",
              "IPY_MODEL_9765ac37e274487ba5dda7fad08dd999",
              "IPY_MODEL_c6de86c63037490a8f1d1aa66e7fb611"
            ],
            "layout": "IPY_MODEL_66d0b2c357444b4f9567040645c38997"
          }
        }
      }
    }
  },
  "nbformat": 4,
  "nbformat_minor": 0
}

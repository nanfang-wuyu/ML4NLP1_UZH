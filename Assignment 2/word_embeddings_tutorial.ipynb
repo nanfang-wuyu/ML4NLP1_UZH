{
  "cells": [
    {
      "cell_type": "markdown",
      "metadata": {
        "id": "view-in-github"
      },
      "source": [
        "<a href=\"https://colab.research.google.com/github/nanfang-wuyu/ML4NLP1_UZH/blob/main/Assignment%202/word_embeddings_tutorial.ipynb\" target=\"_parent\"><img src=\"https://colab.research.google.com/assets/colab-badge.svg\" alt=\"Open In Colab\"/></a>"
      ]
    },
    {
      "cell_type": "code",
      "execution_count": 45,
      "metadata": {
        "id": "Wvrt-REqt5ez"
      },
      "outputs": [],
      "source": [
        "%matplotlib inline"
      ]
    },
    {
      "cell_type": "code",
      "execution_count": 107,
      "metadata": {},
      "outputs": [
        {
          "name": "stdout",
          "output_type": "stream",
          "text": [
            "Requirement already satisfied: textblob in /Users/nanfangwuyu/opt/anaconda3/envs/CS-NLP/lib/python3.7/site-packages (0.17.1)\n",
            "Requirement already satisfied: nltk>=3.1 in /Users/nanfangwuyu/opt/anaconda3/envs/CS-NLP/lib/python3.7/site-packages (from textblob) (3.8.1)\n",
            "Requirement already satisfied: regex>=2021.8.3 in /Users/nanfangwuyu/opt/anaconda3/envs/CS-NLP/lib/python3.7/site-packages (from nltk>=3.1->textblob) (2022.7.9)\n",
            "Requirement already satisfied: click in /Users/nanfangwuyu/opt/anaconda3/envs/CS-NLP/lib/python3.7/site-packages (from nltk>=3.1->textblob) (8.1.3)\n",
            "Requirement already satisfied: joblib in /Users/nanfangwuyu/opt/anaconda3/envs/CS-NLP/lib/python3.7/site-packages (from nltk>=3.1->textblob) (1.2.0)\n",
            "Requirement already satisfied: tqdm in /Users/nanfangwuyu/opt/anaconda3/envs/CS-NLP/lib/python3.7/site-packages (from nltk>=3.1->textblob) (4.64.1)\n",
            "Requirement already satisfied: importlib-metadata in /Users/nanfangwuyu/opt/anaconda3/envs/CS-NLP/lib/python3.7/site-packages (from click->nltk>=3.1->textblob) (4.11.3)\n",
            "Requirement already satisfied: zipp>=0.5 in /Users/nanfangwuyu/opt/anaconda3/envs/CS-NLP/lib/python3.7/site-packages (from importlib-metadata->click->nltk>=3.1->textblob) (3.11.0)\n",
            "Requirement already satisfied: typing-extensions>=3.6.4 in /Users/nanfangwuyu/opt/anaconda3/envs/CS-NLP/lib/python3.7/site-packages (from importlib-metadata->click->nltk>=3.1->textblob) (4.4.0)\n",
            "Note: you may need to restart the kernel to use updated packages.\n",
            "Requirement already satisfied: pyspellchecker in /Users/nanfangwuyu/opt/anaconda3/envs/CS-NLP/lib/python3.7/site-packages (0.7.2)\n",
            "Note: you may need to restart the kernel to use updated packages.\n"
          ]
        }
      ],
      "source": [
        "# Optional for word correction\n",
        "# %pip install textblob\n",
        "# %pip install pyspellchecker"
      ]
    },
    {
      "cell_type": "markdown",
      "metadata": {
        "id": "rMv2k-eFt5e5"
      },
      "source": [
        "Source: [https://pytorch.org/tutorials/beginner/nlp/word_embeddings_tutorial.html#exercise-computing-word-embeddings-continuous-bag-of-words](https://pytorch.org/tutorials/beginner/nlp/word_embeddings_tutorial.html#exercise-computing-word-embeddings-continuous-bag-of-words)\n",
        "\n",
        "# Word Embeddings: Encoding Lexical Semantics\n",
        "\n",
        "Word embeddings are dense vectors of real numbers, one per word in your\n",
        "vocabulary. In NLP, it is almost always the case that your features are\n",
        "words! But how should you represent a word in a computer? You could\n",
        "store its ascii character representation, but that only tells you what\n",
        "the word *is*, it doesn't say much about what it *means* (you might be\n",
        "able to derive its part of speech from its affixes, or properties from\n",
        "its capitalization, but not much). Even more, in what sense could you\n",
        "combine these representations? We often want dense outputs from our\n",
        "neural networks, where the inputs are $|V|$ dimensional, where\n",
        "$V$ is our vocabulary, but often the outputs are only a few\n",
        "dimensional (if we are only predicting a handful of labels, for\n",
        "instance). How do we get from a massive dimensional space to a smaller\n",
        "dimensional space?\n",
        "\n",
        "How about instead of ascii representations, we use a one-hot encoding?\n",
        "That is, we represent the word $w$ by\n",
        "\n",
        "\\begin{align}\\overbrace{\\left[ 0, 0, \\dots, 1, \\dots, 0, 0 \\right]}^\\text{|V| elements}\\end{align}\n",
        "\n",
        "where the 1 is in a location unique to $w$. Any other word will\n",
        "have a 1 in some other location, and a 0 everywhere else.\n",
        "\n",
        "There is an enormous drawback to this representation, besides just how\n",
        "huge it is. It basically treats all words as independent entities with\n",
        "no relation to each other. What we really want is some notion of\n",
        "*similarity* between words. Why? Let's see an example.\n",
        "\n",
        "Suppose we are building a language model. Suppose we have seen the\n",
        "sentences\n",
        "\n",
        "* The mathematician ran to the store.\n",
        "* The physicist ran to the store.\n",
        "* The mathematician solved the open problem.\n",
        "\n",
        "in our training data. Now suppose we get a new sentence never before\n",
        "seen in our training data:\n",
        "\n",
        "* The physicist solved the open problem.\n",
        "\n",
        "Our language model might do OK on this sentence, but wouldn't it be much\n",
        "better if we could use the following two facts:\n",
        "\n",
        "* We have seen  mathematician and physicist in the same role in a sentence. Somehow they\n",
        "  have a semantic relation.\n",
        "* We have seen mathematician in the same role  in this new unseen sentence\n",
        "  as we are now seeing physicist.\n",
        "\n",
        "and then infer that physicist is actually a good fit in the new unseen\n",
        "sentence? This is what we mean by a notion of similarity: we mean\n",
        "*semantic similarity*, not simply having similar orthographic\n",
        "representations. It is a technique to combat the sparsity of linguistic\n",
        "data, by connecting the dots between what we have seen and what we\n",
        "haven't. This example of course relies on a fundamental linguistic\n",
        "assumption: that words appearing in similar contexts are related to each\n",
        "other semantically. This is called the `distributional\n",
        "hypothesis <https://en.wikipedia.org/wiki/Distributional_semantics>`__.\n",
        "\n",
        "\n",
        "# Getting Dense Word Embeddings\n",
        "\n",
        "How can we solve this problem? That is, how could we actually encode\n",
        "semantic similarity in words? Maybe we think up some semantic\n",
        "attributes. For example, we see that both mathematicians and physicists\n",
        "can run, so maybe we give these words a high score for the \"is able to\n",
        "run\" semantic attribute. Think of some other attributes, and imagine\n",
        "what you might score some common words on those attributes.\n",
        "\n",
        "If each attribute is a dimension, then we might give each word a vector,\n",
        "like this:\n",
        "\n",
        "\\begin{align}q_\\text{mathematician} = \\left[ \\overbrace{2.3}^\\text{can run},\n",
        "   \\overbrace{9.4}^\\text{likes coffee}, \\overbrace{-5.5}^\\text{majored in Physics}, \\dots \\right]\\end{align}\n",
        "\n",
        "\\begin{align}q_\\text{physicist} = \\left[ \\overbrace{2.5}^\\text{can run},\n",
        "   \\overbrace{9.1}^\\text{likes coffee}, \\overbrace{6.4}^\\text{majored in Physics}, \\dots \\right]\\end{align}\n",
        "\n",
        "Then we can get a measure of similarity between these words by doing:\n",
        "\n",
        "\\begin{align}\\text{Similarity}(\\text{physicist}, \\text{mathematician}) = q_\\text{physicist} \\cdot q_\\text{mathematician}\\end{align}\n",
        "\n",
        "Although it is more common to normalize by the lengths:\n",
        "\n",
        "\\begin{align}\\text{Similarity}(\\text{physicist}, \\text{mathematician}) = \\frac{q_\\text{physicist} \\cdot q_\\text{mathematician}}\n",
        "   {\\| q_\\text{\\physicist} \\| \\| q_\\text{mathematician} \\|} = \\cos (\\phi)\\end{align}\n",
        "\n",
        "Where $\\phi$ is the angle between the two vectors. That way,\n",
        "extremely similar words (words whose embeddings point in the same\n",
        "direction) will have similarity 1. Extremely dissimilar words should\n",
        "have similarity -1.\n",
        "\n",
        "\n",
        "You can think of the sparse one-hot vectors from the beginning of this\n",
        "section as a special case of these new vectors we have defined, where\n",
        "each word basically has similarity 0, and we gave each word some unique\n",
        "semantic attribute. These new vectors are *dense*, which is to say their\n",
        "entries are (typically) non-zero.\n",
        "\n",
        "But these new vectors are a big pain: you could think of thousands of\n",
        "different semantic attributes that might be relevant to determining\n",
        "similarity, and how on earth would you set the values of the different\n",
        "attributes? Central to the idea of deep learning is that the neural\n",
        "network learns representations of the features, rather than requiring\n",
        "the programmer to design them herself. So why not just let the word\n",
        "embeddings be parameters in our model, and then be updated during\n",
        "training? This is exactly what we will do. We will have some *latent\n",
        "semantic attributes* that the network can, in principle, learn. Note\n",
        "that the word embeddings will probably not be interpretable. That is,\n",
        "although with our hand-crafted vectors above we can see that\n",
        "mathematicians and physicists are similar in that they both like coffee,\n",
        "if we allow a neural network to learn the embeddings and see that both\n",
        "mathematicians and physicists have a large value in the second\n",
        "dimension, it is not clear what that means. They are similar in some\n",
        "latent semantic dimension, but this probably has no interpretation to\n",
        "us.\n",
        "\n",
        "\n",
        "In summary, **word embeddings are a representation of the *semantics* of\n",
        "a word, efficiently encoding semantic information that might be relevant\n",
        "to the task at hand**. You can embed other things too: part of speech\n",
        "tags, parse trees, anything! The idea of feature embeddings is central\n",
        "to the field.\n",
        "\n",
        "\n",
        "# Word Embeddings in Pytorch\n",
        "\n",
        "Before we get to a worked example and an exercise, a few quick notes\n",
        "about how to use embeddings in Pytorch and in deep learning programming\n",
        "in general. Similar to how we defined a unique index for each word when\n",
        "making one-hot vectors, we also need to define an index for each word\n",
        "when using embeddings. These will be keys into a lookup table. That is,\n",
        "embeddings are stored as a $|V| \\times D$ matrix, where $D$\n",
        "is the dimensionality of the embeddings, such that the word assigned\n",
        "index $i$ has its embedding stored in the $i$'th row of the\n",
        "matrix. In all of my code, the mapping from words to indices is a\n",
        "dictionary named word\\_to\\_ix.\n",
        "\n",
        "The module that allows you to use embeddings is torch.nn.Embedding,\n",
        "which takes two arguments: the vocabulary size, and the dimensionality\n",
        "of the embeddings.\n",
        "\n",
        "To index into this table, you must use torch.LongTensor (since the\n",
        "indices are integers, not floats).\n",
        "\n",
        "\n"
      ]
    },
    {
      "cell_type": "code",
      "execution_count": 46,
      "metadata": {
        "colab": {
          "base_uri": "https://localhost:8080/"
        },
        "id": "ELBc1ntbt5e8",
        "outputId": "84fa2fde-45ad-43ff-b1dc-3854bc675460"
      },
      "outputs": [
        {
          "data": {
            "text/plain": [
              "<torch._C.Generator at 0x7fd6caa70670>"
            ]
          },
          "execution_count": 46,
          "metadata": {},
          "output_type": "execute_result"
        }
      ],
      "source": [
        "# Author: Robert Guthrie\n",
        "\n",
        "import torch\n",
        "import torch.nn as nn\n",
        "import torch.nn.functional as F\n",
        "import torch.optim as optim\n",
        "\n",
        "torch.manual_seed(1)"
      ]
    },
    {
      "cell_type": "code",
      "execution_count": 47,
      "metadata": {
        "colab": {
          "base_uri": "https://localhost:8080/"
        },
        "id": "qcvzqik4t5e9",
        "outputId": "1d709805-5a26-44ad-a7fe-00d06aac2c6d"
      },
      "outputs": [
        {
          "name": "stdout",
          "output_type": "stream",
          "text": [
            "tensor([[ 0.6614,  0.2669,  0.0617,  0.6213, -0.4519]],\n",
            "       grad_fn=<EmbeddingBackward0>)\n"
          ]
        }
      ],
      "source": [
        "word_to_ix = {\"hello\": 0, \"world\": 1}\n",
        "embeds = nn.Embedding(2, 5)  # 2 words in vocab, 5 dimensional embeddings # randomly initial\n",
        "lookup_tensor = torch.tensor([word_to_ix[\"hello\"]], dtype=torch.long)\n",
        "hello_embed = embeds(lookup_tensor)\n",
        "print(hello_embed)"
      ]
    },
    {
      "cell_type": "code",
      "execution_count": 48,
      "metadata": {
        "colab": {
          "base_uri": "https://localhost:8080/"
        },
        "id": "0HnwjuilEj7I",
        "outputId": "92ca3a89-72d2-4166-a7ab-6ff3a9233905"
      },
      "outputs": [
        {
          "data": {
            "text/plain": [
              "tensor([[-0.1661, -1.5228,  0.3817, -1.0276, -0.5631]],\n",
              "       grad_fn=<EmbeddingBackward0>)"
            ]
          },
          "execution_count": 48,
          "metadata": {},
          "output_type": "execute_result"
        }
      ],
      "source": [
        "embeds(torch.LongTensor([1]))"
      ]
    },
    {
      "cell_type": "markdown",
      "metadata": {
        "id": "es54fI4yt5e-"
      },
      "source": [
        "# An Example: N-Gram Language Modeling\n",
        "\n",
        "Recall that in an n-gram language model, given a sequence of words\n",
        "$w$, we want to compute\n",
        "\n",
        "\\begin{align}P(w_i | w_{i-1}, w_{i-2}, \\dots, w_{i-n+1} )\\end{align}\n",
        "\n",
        "Where $w_i$ is the ith word of the sequence.\n",
        "\n",
        "In this example, we will compute the loss function on some training\n",
        "examples and update the parameters with backpropagation.\n",
        "\n",
        "\n"
      ]
    },
    {
      "cell_type": "code",
      "execution_count": 49,
      "metadata": {
        "colab": {
          "base_uri": "https://localhost:8080/"
        },
        "id": "WKEd73J5t5e_",
        "outputId": "ea8c2a3b-6a8f-440c-9395-cb5e63e65ee4"
      },
      "outputs": [
        {
          "name": "stdout",
          "output_type": "stream",
          "text": [
            "[(['When', 'forty'], 'winters'), (['forty', 'winters'], 'shall'), (['winters', 'shall'], 'besiege')]\n"
          ]
        },
        {
          "name": "stdout",
          "output_type": "stream",
          "text": [
            "[518.7701461315155, 516.090772151947, 513.4266452789307, 510.77938985824585, 508.14692997932434, 505.5277931690216, 502.9213914871216, 500.32760977745056, 497.74508023262024, 495.1726322174072]\n"
          ]
        }
      ],
      "source": [
        "CONTEXT_SIZE = 2\n",
        "EMBEDDING_DIM = 10\n",
        "# We will use Shakespeare Sonnet 2\n",
        "test_sentence = \"\"\"When forty winters shall besiege thy brow,\n",
        "And dig deep trenches in thy beauty's field,\n",
        "Thy youth's proud livery so gazed on now,\n",
        "Will be a totter'd weed of small worth held:\n",
        "Then being asked, where all thy beauty lies,\n",
        "Where all the treasure of thy lusty days;\n",
        "To say, within thine own deep sunken eyes,\n",
        "Were an all-eating shame, and thriftless praise.\n",
        "How much more praise deserv'd thy beauty's use,\n",
        "If thou couldst answer 'This fair child of mine\n",
        "Shall sum my count, and make my old excuse,'\n",
        "Proving his beauty by succession thine!\n",
        "This were to be new made when thou art old,\n",
        "And see thy blood warm when thou feel'st it cold.\"\"\".split()\n",
        "# we should tokenize the input, but we will ignore that for now\n",
        "# build a list of tuples.  Each tuple is ([ word_i-2, word_i-1 ], target word)\n",
        "trigrams = [([test_sentence[i], test_sentence[i + 1]], test_sentence[i + 2])\n",
        "            for i in range(len(test_sentence) - 2)]\n",
        "# print the first 3, just so you can see what they look like\n",
        "print(trigrams[:3])\n",
        "\n",
        "vocab = set(test_sentence)\n",
        "word_to_ix = {word: i for i, word in enumerate(vocab)}\n",
        "\n",
        "\n",
        "class NGramLanguageModeler(nn.Module):\n",
        "\n",
        "    def __init__(self, vocab_size, embedding_dim, context_size):\n",
        "        super(NGramLanguageModeler, self).__init__()\n",
        "        self.embeddings = nn.Embedding(vocab_size, embedding_dim)\n",
        "        self.linear1 = nn.Linear(context_size * embedding_dim, 128)\n",
        "        self.linear2 = nn.Linear(128, vocab_size)\n",
        "\n",
        "    def forward(self, inputs):\n",
        "        embeds = self.embeddings(inputs).view((1, -1))\n",
        "        out = F.relu(self.linear1(embeds))\n",
        "        out = self.linear2(out)\n",
        "        log_probs = F.log_softmax(out, dim=1)\n",
        "        return log_probs\n",
        "\n",
        "\n",
        "losses = []\n",
        "loss_function = nn.NLLLoss()\n",
        "model = NGramLanguageModeler(len(vocab), EMBEDDING_DIM, CONTEXT_SIZE)\n",
        "optimizer = optim.SGD(model.parameters(), lr=0.001)\n",
        "\n",
        "for epoch in range(10):\n",
        "    total_loss = 0\n",
        "    for context, target in trigrams:\n",
        "\n",
        "        # Step 1. Prepare the inputs to be passed to the model (i.e, turn the words\n",
        "        # into integer indices and wrap them in tensors)\n",
        "        context_idxs = torch.tensor([word_to_ix[w] for w in context], dtype=torch.long)\n",
        "\n",
        "        # Step 2. Recall that torch *accumulates* gradients. Before passing in a\n",
        "        # new instance, you need to zero out the gradients from the old\n",
        "        # instance\n",
        "        model.zero_grad()\n",
        "\n",
        "        # Step 3. Run the forward pass, getting log probabilities over next\n",
        "        # words\n",
        "        log_probs = model(context_idxs)\n",
        "\n",
        "        # n probs, 1 target idx\n",
        "        # Step 4. Compute your loss function. (Again, Torch wants the target\n",
        "        # word wrapped in a tensor)\n",
        "        loss = loss_function(log_probs, torch.tensor([word_to_ix[target]], dtype=torch.long))\n",
        "\n",
        "        # Step 5. Do the backward pass and update the gradient\n",
        "        loss.backward()\n",
        "        optimizer.step()\n",
        "\n",
        "        # Get the Python number from a 1-element Tensor by calling tensor.item()\n",
        "        total_loss += loss.item()\n",
        "    losses.append(total_loss)\n",
        "print(losses)  # The loss decreased every iteration over the training data!"
      ]
    },
    {
      "cell_type": "markdown",
      "metadata": {
        "id": "lO-_4P3mt5e_"
      },
      "source": [
        "# Exercise: Computing Word Embeddings: Continuous Bag-of-Words\n",
        "\n",
        "The Continuous Bag-of-Words model (CBOW) is frequently used in NLP deep\n",
        "learning. It is a model that tries to predict words given the context of\n",
        "a few words before and a few words after the target word. This is\n",
        "distinct from language modeling, since CBOW is not sequential and does\n",
        "not have to be probabilistic. Typcially, CBOW is used to quickly train\n",
        "word embeddings, and these embeddings are used to initialize the\n",
        "embeddings of some more complicated model. Usually, this is referred to\n",
        "as *pretraining embeddings*. It almost always helps performance a couple\n",
        "of percent.\n",
        "\n",
        "The CBOW model is as follows. Given a target word $w_i$ and an\n",
        "$N$ context window on each side, $w_{i-1}, \\dots, w_{i-N}$\n",
        "and $w_{i+1}, \\dots, w_{i+N}$, referring to all context words\n",
        "collectively as $C$, CBOW tries to minimize\n",
        "\n",
        "\\begin{align}-\\log p(w_i | C) = -\\log \\text{Softmax}(A(\\sum_{w \\in C} q_w) + b)\\end{align}\n",
        "\n",
        "where $q_w$ is the embedding for word $w$.\n",
        "\n",
        "Implement this model in Pytorch by filling in the class below. Some\n",
        "tips:\n",
        "\n",
        "* Think about which parameters you need to define.\n",
        "* Make sure you know what shape each operation expects. Use .view() if you need to\n",
        "  reshape.\n",
        "\n",
        "\n"
      ]
    },
    {
      "cell_type": "code",
      "execution_count": 50,
      "metadata": {
        "colab": {
          "base_uri": "https://localhost:8080/"
        },
        "id": "gXbt-utMt5fA",
        "outputId": "9f50eb27-8197-4c63-bcfb-dc59561da5f3"
      },
      "outputs": [
        {
          "name": "stdout",
          "output_type": "stream",
          "text": [
            "[(['We', 'are', 'to', 'study'], 'about'), (['are', 'about', 'study', 'the'], 'to'), (['about', 'to', 'the', 'idea'], 'study'), (['to', 'study', 'idea', 'of'], 'the'), (['study', 'the', 'of', 'a'], 'idea')]\n"
          ]
        },
        {
          "data": {
            "text/plain": [
              "tensor([21, 10, 26, 28])"
            ]
          },
          "execution_count": 50,
          "metadata": {},
          "output_type": "execute_result"
        }
      ],
      "source": [
        "CONTEXT_SIZE = 2  # 2 words to the left, 2 to the right\n",
        "raw_text = \"\"\"We are about to study the idea of a computational process.\n",
        "Computational processes are abstract beings that inhabit computers.\n",
        "As they evolve, processes manipulate other abstract things called data.\n",
        "The evolution of a process is directed by a pattern of rules\n",
        "called a program. People create programs to direct processes. In effect,\n",
        "we conjure the spirits of the computer with our spells.\"\"\".split()\n",
        "\n",
        "# By deriving a set from `raw_text`, we deduplicate the array\n",
        "vocab = set(raw_text)\n",
        "vocab_size = len(vocab)\n",
        "\n",
        "word_to_ix = {word: i for i, word in enumerate(vocab)}\n",
        "data = []\n",
        "for i in range(2, len(raw_text) - 2):\n",
        "    context = [raw_text[i - 2], raw_text[i - 1],\n",
        "               raw_text[i + 1], raw_text[i + 2]]\n",
        "    target = raw_text[i]\n",
        "    data.append((context, target))\n",
        "print(data[:5])\n",
        "\n",
        "\n",
        "\n",
        "\n",
        "def make_context_vector(context, word_to_ix):\n",
        "    idxs = [word_to_ix[w] for w in context]\n",
        "    return torch.tensor(idxs, dtype=torch.long)\n",
        "\n",
        "# data[i]: i-th contexts-target pair\n",
        "# data[i][0]: 4 contexts (list)\n",
        "# data[i][1]: target (text)\n",
        "make_context_vector(data[0][0], word_to_ix)  # example"
      ]
    },
    {
      "cell_type": "markdown",
      "metadata": {
        "id": "7z7Wt1QTEj7J"
      },
      "source": [
        "## Model"
      ]
    },
    {
      "cell_type": "code",
      "execution_count": 51,
      "metadata": {
        "id": "5X4otyRaEj7J"
      },
      "outputs": [],
      "source": [
        "class CBOW(nn.Module):\n",
        "\n",
        "    def __init__(self, vocab_size, embedding_dim, context_size):\n",
        "        super(CBOW, self).__init__()\n",
        "        self.embeddings = nn.Embedding(vocab_size, embedding_dim)\n",
        "        self.linear1 = nn.Linear(2 * context_size * embedding_dim, 128)\n",
        "        self.linear2 = nn.Linear(128, vocab_size)\n",
        "\n",
        "\n",
        "    def forward(self, inputs):\n",
        "        embeds = self.embeddings(inputs).view(-1, self.linear1.in_features)\n",
        "        out = F.relu(self.linear1(embeds))\n",
        "        out = self.linear2(out)\n",
        "        log_probs = F.log_softmax(out, dim=1)\n",
        "        return log_probs\n",
        "\n",
        "# create your model and train.  here are some functions to help you make\n",
        "# the data ready for use by your module\n"
      ]
    },
    {
      "cell_type": "markdown",
      "metadata": {
        "id": "SpxNmIs0Ej7K"
      },
      "source": [
        "## Data Preprocessing"
      ]
    },
    {
      "cell_type": "code",
      "execution_count": 52,
      "metadata": {
        "colab": {
          "base_uri": "https://localhost:8080/"
        },
        "id": "seStMcBZGn4D",
        "outputId": "9c335eae-7e3a-473c-ff4d-dab870c2fbf2"
      },
      "outputs": [
        {
          "name": "stdout",
          "output_type": "stream",
          "text": [
            "zsh:1: command not found: gdown\n",
            "zsh:1: command not found: gdown\n"
          ]
        }
      ],
      "source": [
        "!gdown 1foE1JuZJeu5E_4qVge9kExzhvF32teuF\n",
        "!gdown 13IWXrTjGTrfCd9l7dScZVO8ZvMicPU75"
      ]
    },
    {
      "cell_type": "markdown",
      "metadata": {
        "id": "NpQoX18vEj7K"
      },
      "source": [
        "### Load Data"
      ]
    },
    {
      "cell_type": "code",
      "execution_count": 53,
      "metadata": {
        "id": "imtLiRo4Ej7K"
      },
      "outputs": [],
      "source": [
        "with open(f'scifi_reduced.txt') as f:\n",
        "    text_scifi = f.read()\n",
        "import pandas as pd\n",
        "df_hotel = pd.read_csv('tripadvisor_hotel_reviews_reduced.csv')"
      ]
    },
    {
      "cell_type": "code",
      "execution_count": 54,
      "metadata": {
        "colab": {
          "base_uri": "https://localhost:8080/",
          "height": 35
        },
        "id": "biyGDhsMEj7K",
        "outputId": "ecc52f89-6873-47be-c182-0ae5a0b486b7"
      },
      "outputs": [
        {
          "data": {
            "text/plain": [
              "' A chat with the edi'"
            ]
          },
          "execution_count": 54,
          "metadata": {},
          "output_type": "execute_result"
        }
      ],
      "source": [
        "text_scifi[:20]"
      ]
    },
    {
      "cell_type": "code",
      "execution_count": 55,
      "metadata": {
        "colab": {
          "base_uri": "https://localhost:8080/",
          "height": 206
        },
        "id": "YbfJbJmdEj7K",
        "outputId": "c517e22c-189c-4cd6-f937-13dc7cc2b402"
      },
      "outputs": [
        {
          "data": {
            "text/html": [
              "<div>\n",
              "<style scoped>\n",
              "    .dataframe tbody tr th:only-of-type {\n",
              "        vertical-align: middle;\n",
              "    }\n",
              "\n",
              "    .dataframe tbody tr th {\n",
              "        vertical-align: top;\n",
              "    }\n",
              "\n",
              "    .dataframe thead th {\n",
              "        text-align: right;\n",
              "    }\n",
              "</style>\n",
              "<table border=\"1\" class=\"dataframe\">\n",
              "  <thead>\n",
              "    <tr style=\"text-align: right;\">\n",
              "      <th></th>\n",
              "      <th>Review</th>\n",
              "      <th>Rating</th>\n",
              "    </tr>\n",
              "  </thead>\n",
              "  <tbody>\n",
              "    <tr>\n",
              "      <th>0</th>\n",
              "      <td>fantastic service large hotel caters business ...</td>\n",
              "      <td>5</td>\n",
              "    </tr>\n",
              "    <tr>\n",
              "      <th>1</th>\n",
              "      <td>great hotel modern hotel good location, locate...</td>\n",
              "      <td>4</td>\n",
              "    </tr>\n",
              "    <tr>\n",
              "      <th>2</th>\n",
              "      <td>3 star plus glasgowjust got 30th november 4 da...</td>\n",
              "      <td>4</td>\n",
              "    </tr>\n",
              "    <tr>\n",
              "      <th>3</th>\n",
              "      <td>nice stayed hotel nov 19-23. great little bout...</td>\n",
              "      <td>4</td>\n",
              "    </tr>\n",
              "    <tr>\n",
              "      <th>4</th>\n",
              "      <td>great place wonderful hotel ideally located me...</td>\n",
              "      <td>5</td>\n",
              "    </tr>\n",
              "  </tbody>\n",
              "</table>\n",
              "</div>"
            ],
            "text/plain": [
              "                                              Review  Rating\n",
              "0  fantastic service large hotel caters business ...       5\n",
              "1  great hotel modern hotel good location, locate...       4\n",
              "2  3 star plus glasgowjust got 30th november 4 da...       4\n",
              "3  nice stayed hotel nov 19-23. great little bout...       4\n",
              "4  great place wonderful hotel ideally located me...       5"
            ]
          },
          "execution_count": 55,
          "metadata": {},
          "output_type": "execute_result"
        }
      ],
      "source": [
        "df_hotel[:5]"
      ]
    },
    {
      "cell_type": "code",
      "execution_count": 56,
      "metadata": {
        "id": "XgKXf2cIEj7K"
      },
      "outputs": [],
      "source": [
        "text_hotel = df_hotel.drop(columns=[\"Rating\"])"
      ]
    },
    {
      "cell_type": "code",
      "execution_count": 57,
      "metadata": {
        "colab": {
          "base_uri": "https://localhost:8080/",
          "height": 206
        },
        "id": "Cq4T39VpEj7K",
        "outputId": "70f1d411-f702-4dcc-f78e-c737eb402c97"
      },
      "outputs": [
        {
          "data": {
            "text/html": [
              "<div>\n",
              "<style scoped>\n",
              "    .dataframe tbody tr th:only-of-type {\n",
              "        vertical-align: middle;\n",
              "    }\n",
              "\n",
              "    .dataframe tbody tr th {\n",
              "        vertical-align: top;\n",
              "    }\n",
              "\n",
              "    .dataframe thead th {\n",
              "        text-align: right;\n",
              "    }\n",
              "</style>\n",
              "<table border=\"1\" class=\"dataframe\">\n",
              "  <thead>\n",
              "    <tr style=\"text-align: right;\">\n",
              "      <th></th>\n",
              "      <th>Review</th>\n",
              "    </tr>\n",
              "  </thead>\n",
              "  <tbody>\n",
              "    <tr>\n",
              "      <th>0</th>\n",
              "      <td>fantastic service large hotel caters business ...</td>\n",
              "    </tr>\n",
              "    <tr>\n",
              "      <th>1</th>\n",
              "      <td>great hotel modern hotel good location, locate...</td>\n",
              "    </tr>\n",
              "    <tr>\n",
              "      <th>2</th>\n",
              "      <td>3 star plus glasgowjust got 30th november 4 da...</td>\n",
              "    </tr>\n",
              "    <tr>\n",
              "      <th>3</th>\n",
              "      <td>nice stayed hotel nov 19-23. great little bout...</td>\n",
              "    </tr>\n",
              "    <tr>\n",
              "      <th>4</th>\n",
              "      <td>great place wonderful hotel ideally located me...</td>\n",
              "    </tr>\n",
              "  </tbody>\n",
              "</table>\n",
              "</div>"
            ],
            "text/plain": [
              "                                              Review\n",
              "0  fantastic service large hotel caters business ...\n",
              "1  great hotel modern hotel good location, locate...\n",
              "2  3 star plus glasgowjust got 30th november 4 da...\n",
              "3  nice stayed hotel nov 19-23. great little bout...\n",
              "4  great place wonderful hotel ideally located me..."
            ]
          },
          "execution_count": 57,
          "metadata": {},
          "output_type": "execute_result"
        }
      ],
      "source": [
        "text_hotel[:5]"
      ]
    },
    {
      "cell_type": "markdown",
      "metadata": {
        "id": "o4hG6-b7Ej7K"
      },
      "source": [
        "1. Data Cleaning, 2. **Character Casing**, 3. **Splitting Sentences** (optional), 4. **Tokenizing Words**, 5. **Dealing with Punctuation**, 6. Expanding Contractions (optional), 7. **Removing Stopwords**, 8. Lemmatization and Stemming (optional), 9. Handling Special Cases, 10. Handling Rare Words and Out-of-Vocabulary Words.\n",
        "\n",
        "1. Special Characters Cleaning\n",
        "2. Character Casing\n",
        "3. Do not split sentences or tokenize words\n",
        "4. Do not remove stopword, may be beneficial\n",
        "5. Do not handle Out-of-Vocabulary Words maybe German"
      ]
    },
    {
      "cell_type": "markdown",
      "metadata": {
        "id": "AELkBrUGEj7K"
      },
      "source": [
        "### Special Characters Cleaning"
      ]
    },
    {
      "cell_type": "code",
      "execution_count": 58,
      "metadata": {
        "id": "euaZWc5DEj7L"
      },
      "outputs": [],
      "source": [
        "# import library: Regular Expression\n",
        "import re\n",
        "\n",
        "# Clean the data by removing special characters (punctuation)\n",
        "def sp_chara_cleaning(text):\n",
        "    clean_text = re.sub(r'[^a-zA-Z0-9\\s]', ' ', text)\n",
        "    return clean_text"
      ]
    },
    {
      "cell_type": "code",
      "execution_count": 59,
      "metadata": {
        "colab": {
          "base_uri": "https://localhost:8080/",
          "height": 35
        },
        "id": "mpJhZttMEj7L",
        "outputId": "e0e73b34-491c-4d3e-80dd-442455e50ade"
      },
      "outputs": [
        {
          "data": {
            "text/plain": [
              "' trap music  123   gmail  How are you '"
            ]
          },
          "execution_count": 59,
          "metadata": {},
          "output_type": "execute_result"
        }
      ],
      "source": [
        "sp_chara_cleaning(\"#trap music <123> @gmail! How are you?\")"
      ]
    },
    {
      "cell_type": "code",
      "execution_count": 60,
      "metadata": {},
      "outputs": [
        {
          "data": {
            "text/plain": [
              "['trap', 'music', '123', 'gmail', 'How', 'are', 'you']"
            ]
          },
          "execution_count": 60,
          "metadata": {},
          "output_type": "execute_result"
        }
      ],
      "source": [
        "' trap music  123   gmail  How are you '.split()"
      ]
    },
    {
      "cell_type": "markdown",
      "metadata": {
        "id": "IIrFO-oEEj7L"
      },
      "source": [
        "### Character Casing"
      ]
    },
    {
      "cell_type": "code",
      "execution_count": 61,
      "metadata": {
        "id": "wMi4wuHPEj7L"
      },
      "outputs": [],
      "source": [
        "def character_casing(text):\n",
        "    lower_text = text.lower()\n",
        "    return lower_text"
      ]
    },
    {
      "cell_type": "code",
      "execution_count": 62,
      "metadata": {
        "colab": {
          "base_uri": "https://localhost:8080/",
          "height": 35
        },
        "id": "dQyHrp8oEj7L",
        "outputId": "bc9dbb1b-b34c-435d-f5ac-0b655af6ad95"
      },
      "outputs": [
        {
          "data": {
            "text/plain": [
              "'starbucks starbucks'"
            ]
          },
          "execution_count": 62,
          "metadata": {},
          "output_type": "execute_result"
        }
      ],
      "source": [
        "character_casing(\"STARBUCKS Starbucks\")"
      ]
    },
    {
      "cell_type": "markdown",
      "metadata": {
        "id": "uTMuVDEaEj7L"
      },
      "source": [
        "### Apply Preprocessing Functions"
      ]
    },
    {
      "cell_type": "code",
      "execution_count": 63,
      "metadata": {
        "colab": {
          "base_uri": "https://localhost:8080/",
          "height": 206
        },
        "id": "wl5BxRFXEj7L",
        "outputId": "5e623d97-aa9d-46b9-dcd3-1758a1195ecc"
      },
      "outputs": [
        {
          "data": {
            "text/html": [
              "<div>\n",
              "<style scoped>\n",
              "    .dataframe tbody tr th:only-of-type {\n",
              "        vertical-align: middle;\n",
              "    }\n",
              "\n",
              "    .dataframe tbody tr th {\n",
              "        vertical-align: top;\n",
              "    }\n",
              "\n",
              "    .dataframe thead th {\n",
              "        text-align: right;\n",
              "    }\n",
              "</style>\n",
              "<table border=\"1\" class=\"dataframe\">\n",
              "  <thead>\n",
              "    <tr style=\"text-align: right;\">\n",
              "      <th></th>\n",
              "      <th>Review</th>\n",
              "    </tr>\n",
              "  </thead>\n",
              "  <tbody>\n",
              "    <tr>\n",
              "      <th>0</th>\n",
              "      <td>fantastic service large hotel caters business ...</td>\n",
              "    </tr>\n",
              "    <tr>\n",
              "      <th>1</th>\n",
              "      <td>great hotel modern hotel good location, locate...</td>\n",
              "    </tr>\n",
              "    <tr>\n",
              "      <th>2</th>\n",
              "      <td>3 star plus glasgowjust got 30th november 4 da...</td>\n",
              "    </tr>\n",
              "    <tr>\n",
              "      <th>3</th>\n",
              "      <td>nice stayed hotel nov 19-23. great little bout...</td>\n",
              "    </tr>\n",
              "    <tr>\n",
              "      <th>4</th>\n",
              "      <td>great place wonderful hotel ideally located me...</td>\n",
              "    </tr>\n",
              "  </tbody>\n",
              "</table>\n",
              "</div>"
            ],
            "text/plain": [
              "                                              Review\n",
              "0  fantastic service large hotel caters business ...\n",
              "1  great hotel modern hotel good location, locate...\n",
              "2  3 star plus glasgowjust got 30th november 4 da...\n",
              "3  nice stayed hotel nov 19-23. great little bout...\n",
              "4  great place wonderful hotel ideally located me..."
            ]
          },
          "execution_count": 63,
          "metadata": {},
          "output_type": "execute_result"
        }
      ],
      "source": [
        "text_hotel[:5]"
      ]
    },
    {
      "cell_type": "code",
      "execution_count": 64,
      "metadata": {
        "id": "UINN_9g9Ej7L"
      },
      "outputs": [],
      "source": [
        "text_hotel[\"Review\"] = text_hotel[\"Review\"].apply(sp_chara_cleaning)\n",
        "text_hotel[\"Review\"] = text_hotel[\"Review\"].apply(character_casing)"
      ]
    },
    {
      "cell_type": "code",
      "execution_count": 65,
      "metadata": {
        "colab": {
          "base_uri": "https://localhost:8080/",
          "height": 206
        },
        "id": "Ey1_92k5Ej7L",
        "outputId": "195fe9ca-ce2c-4a25-e5e1-0cff755ae96b"
      },
      "outputs": [
        {
          "data": {
            "text/html": [
              "<div>\n",
              "<style scoped>\n",
              "    .dataframe tbody tr th:only-of-type {\n",
              "        vertical-align: middle;\n",
              "    }\n",
              "\n",
              "    .dataframe tbody tr th {\n",
              "        vertical-align: top;\n",
              "    }\n",
              "\n",
              "    .dataframe thead th {\n",
              "        text-align: right;\n",
              "    }\n",
              "</style>\n",
              "<table border=\"1\" class=\"dataframe\">\n",
              "  <thead>\n",
              "    <tr style=\"text-align: right;\">\n",
              "      <th></th>\n",
              "      <th>Review</th>\n",
              "    </tr>\n",
              "  </thead>\n",
              "  <tbody>\n",
              "    <tr>\n",
              "      <th>0</th>\n",
              "      <td>fantastic service large hotel caters business ...</td>\n",
              "    </tr>\n",
              "    <tr>\n",
              "      <th>1</th>\n",
              "      <td>great hotel modern hotel good location  locate...</td>\n",
              "    </tr>\n",
              "    <tr>\n",
              "      <th>2</th>\n",
              "      <td>3 star plus glasgowjust got 30th november 4 da...</td>\n",
              "    </tr>\n",
              "    <tr>\n",
              "      <th>3</th>\n",
              "      <td>nice stayed hotel nov 19 23  great little bout...</td>\n",
              "    </tr>\n",
              "    <tr>\n",
              "      <th>4</th>\n",
              "      <td>great place wonderful hotel ideally located me...</td>\n",
              "    </tr>\n",
              "  </tbody>\n",
              "</table>\n",
              "</div>"
            ],
            "text/plain": [
              "                                              Review\n",
              "0  fantastic service large hotel caters business ...\n",
              "1  great hotel modern hotel good location  locate...\n",
              "2  3 star plus glasgowjust got 30th november 4 da...\n",
              "3  nice stayed hotel nov 19 23  great little bout...\n",
              "4  great place wonderful hotel ideally located me..."
            ]
          },
          "execution_count": 65,
          "metadata": {},
          "output_type": "execute_result"
        }
      ],
      "source": [
        "# show text after preprocessing\n",
        "text_hotel[:5]"
      ]
    },
    {
      "cell_type": "code",
      "execution_count": 66,
      "metadata": {
        "colab": {
          "base_uri": "https://localhost:8080/",
          "height": 35
        },
        "id": "uYgiDdaXEj7L",
        "outputId": "61557a63-bc3b-4581-a064-461cb32d02cc"
      },
      "outputs": [
        {
          "data": {
            "text/plain": [
              "' A chat with the edi'"
            ]
          },
          "execution_count": 66,
          "metadata": {},
          "output_type": "execute_result"
        }
      ],
      "source": [
        "text_scifi[:20]"
      ]
    },
    {
      "cell_type": "code",
      "execution_count": 67,
      "metadata": {
        "colab": {
          "base_uri": "https://localhost:8080/",
          "height": 35
        },
        "id": "CS92wEGNEj7M",
        "outputId": "7da82c65-00e6-4fa4-805e-a986251a8d8f"
      },
      "outputs": [
        {
          "data": {
            "text/plain": [
              "' a chat with the edi'"
            ]
          },
          "execution_count": 67,
          "metadata": {},
          "output_type": "execute_result"
        }
      ],
      "source": [
        "text_scifi = sp_chara_cleaning(text_scifi)\n",
        "text_scifi = character_casing(text_scifi)\n",
        "# show text after preprocessing\n",
        "text_scifi[:20]"
      ]
    },
    {
      "cell_type": "markdown",
      "metadata": {
        "id": "J3AwotczEj7M"
      },
      "source": [
        "### Create Dataset For Training"
      ]
    },
    {
      "cell_type": "code",
      "execution_count": 68,
      "metadata": {
        "id": "rmJcysCNVqHd"
      },
      "outputs": [],
      "source": [
        "def create_triagrams(i_text, context_size=2):\n",
        "    i_context_tensor = []\n",
        "    i_target_tensor = []\n",
        "    for i in range(context_size, len(i_text) - context_size):\n",
        "        i_contexts = [i_text[j] for j in range(i - context_size, i + context_size + 1) if i != j]\n",
        "        i_target = i_text[i]\n",
        "        i_context_tensor.append(i_contexts)\n",
        "        i_target_tensor.append(i_target)\n",
        "    i_target_tensor = torch.LongTensor(i_target_tensor)\n",
        "    i_context_tensor = torch.LongTensor(i_context_tensor)\n",
        "    return i_context_tensor, i_target_tensor"
      ]
    },
    {
      "cell_type": "markdown",
      "metadata": {
        "id": "vp-USTHqVqHd"
      },
      "source": [
        "#### SCIFI DATASET"
      ]
    },
    {
      "cell_type": "code",
      "execution_count": 69,
      "metadata": {
        "id": "KsQL8PjKEj7M"
      },
      "outputs": [],
      "source": [
        "words = text_scifi.split()\n",
        "vocab_scifi = list(set(words))\n",
        "word_to_ix_scifi = {word: i for i, word in enumerate(vocab_scifi)}\n",
        "i_text = [word_to_ix_scifi[w] for w in words]\n",
        "i_context_scifi, i_target_scifi = create_triagrams(i_text, 2)\n",
        "\n"
      ]
    },
    {
      "cell_type": "code",
      "execution_count": 70,
      "metadata": {
        "colab": {
          "base_uri": "https://localhost:8080/"
        },
        "id": "NIJAH-o9VqHe",
        "outputId": "5b229ecf-6be8-45e2-d1d3-539685dcb43b"
      },
      "outputs": [
        {
          "data": {
            "text/plain": [
              "(7830344, 111577, torch.Size([7830340]), torch.Size([7830340, 4]))"
            ]
          },
          "execution_count": 70,
          "metadata": {},
          "output_type": "execute_result"
        }
      ],
      "source": [
        "len(words), len(vocab_scifi), i_target_scifi.shape, i_context_scifi.shape"
      ]
    },
    {
      "cell_type": "code",
      "execution_count": 71,
      "metadata": {
        "id": "m0bIVpCiVqHe"
      },
      "outputs": [],
      "source": [
        "\n",
        "# def create_triagrams(i_text, context_size, i_data):\n",
        "\n",
        "#     for i in range(context_size, len(i_text) - context_size):\n",
        "#         idxs = [i_text[j] for j in range(i - context_size, i + context_size + 1)]\n",
        "#         idxs.pop(len(idxs) // 2)\n",
        "#         i_target = i_text[i]\n",
        "#         i_data.append((torch.tensor(idxs, dtype=torch.long), torch.tensor(i_target, dtype=torch.long)))\n",
        "\n",
        "#     return i_data"
      ]
    },
    {
      "cell_type": "markdown",
      "metadata": {
        "id": "dVLk_q4HVqHe"
      },
      "source": [
        "#### HOTEL DATASET"
      ]
    },
    {
      "cell_type": "code",
      "execution_count": 72,
      "metadata": {
        "id": "FDq4LCBHEj7M"
      },
      "outputs": [],
      "source": [
        "words = ' '.join(text_hotel['Review']).split()\n",
        "vocab_hotel = list(set(words))\n",
        "word_to_ix_hotel = {word: i for i, word in enumerate(vocab_hotel)}\n",
        "i_text = [word_to_ix_hotel[w] for w in words]"
      ]
    },
    {
      "cell_type": "code",
      "execution_count": 73,
      "metadata": {
        "id": "1tYqngr_VqHe"
      },
      "outputs": [],
      "source": [
        "i_context_hotel_2, i_target_hotel_2 = create_triagrams(i_text, 2)\n",
        "i_context_hotel_5, i_target_hotel_5 = create_triagrams(i_text, 5)"
      ]
    },
    {
      "cell_type": "code",
      "execution_count": 74,
      "metadata": {
        "colab": {
          "base_uri": "https://localhost:8080/"
        },
        "id": "LDJHGWPVVqHe",
        "outputId": "389c1e9a-ba9a-4b21-f53c-e5886ea9c0d9"
      },
      "outputs": [
        {
          "data": {
            "text/plain": [
              "(1092224, 36160)"
            ]
          },
          "execution_count": 74,
          "metadata": {},
          "output_type": "execute_result"
        }
      ],
      "source": [
        "len(words), len(vocab_hotel)"
      ]
    },
    {
      "cell_type": "code",
      "execution_count": 75,
      "metadata": {
        "colab": {
          "base_uri": "https://localhost:8080/"
        },
        "id": "-ipR674_VqHe",
        "outputId": "04b0c6a0-1030-4a6c-e7ce-76812e87465c"
      },
      "outputs": [
        {
          "data": {
            "text/plain": [
              "(torch.Size([1092220, 4]),\n",
              " torch.Size([1092220]),\n",
              " torch.Size([1092214, 10]),\n",
              " torch.Size([1092214]))"
            ]
          },
          "execution_count": 75,
          "metadata": {},
          "output_type": "execute_result"
        }
      ],
      "source": [
        "i_context_hotel_2.shape, i_target_hotel_2.shape, i_context_hotel_5.shape, i_target_hotel_5.shape"
      ]
    },
    {
      "cell_type": "markdown",
      "metadata": {
        "id": "ZhUXY0u0Ej7M"
      },
      "source": [
        "## Train Model"
      ]
    },
    {
      "cell_type": "code",
      "execution_count": 76,
      "metadata": {
        "id": "eNWVkL4sEj7M"
      },
      "outputs": [
        {
          "data": {
            "text/plain": [
              "device(type='mps')"
            ]
          },
          "execution_count": 76,
          "metadata": {},
          "output_type": "execute_result"
        }
      ],
      "source": [
        "# device = 'cuda:0' if torch.cuda.is_available() else 'cpu'\n",
        "device = torch.device(\"mps\")\n",
        "device"
      ]
    },
    {
      "cell_type": "code",
      "execution_count": 77,
      "metadata": {
        "colab": {
          "base_uri": "https://localhost:8080/"
        },
        "id": "-gk9fkwHG3du",
        "outputId": "1983d203-a663-416a-a8fd-a2424895d9db"
      },
      "outputs": [
        {
          "data": {
            "text/plain": [
              "False"
            ]
          },
          "execution_count": 77,
          "metadata": {},
          "output_type": "execute_result"
        }
      ],
      "source": [
        "torch.cuda.is_available()"
      ]
    },
    {
      "cell_type": "code",
      "execution_count": 78,
      "metadata": {
        "id": "g6Y-IbSLW22q"
      },
      "outputs": [],
      "source": [
        "import time\n",
        "import logging"
      ]
    },
    {
      "cell_type": "code",
      "execution_count": 79,
      "metadata": {
        "id": "Ic1RjFd0ldAX"
      },
      "outputs": [],
      "source": [
        "from torch.utils.data import IterableDataset, DataLoader\n",
        "\n",
        "# Example from 05_intro_to_PyTorch.ipynb\n",
        "class MyDataset(IterableDataset):\n",
        "    def __init__(self, data_X, data_y):\n",
        "        assert len(data_X) == len(data_y)\n",
        "        self.data_X = data_X.to(device)\n",
        "        self.data_y = data_y.to(device)\n",
        "\n",
        "    def __len__(self):\n",
        "        return len(self.data_X)\n",
        "\n",
        "    def __iter__(self):\n",
        "        for i in range(len(self.data_X)):\n",
        "            yield (self.data_X[i], self.data_y[i])\n",
        "\n"
      ]
    },
    {
      "cell_type": "code",
      "execution_count": 80,
      "metadata": {
        "id": "I7L4F4Pam0Lw"
      },
      "outputs": [],
      "source": [
        "def createDataLoader(X, y):\n",
        "  torch.manual_seed(1)\n",
        "  ridxs = torch.randperm(len(X))\n",
        "  # ridxs = ridxs[: len(ridxs) // 10]\n",
        "  sp = len(ridxs)*4//5\n",
        "  train_set = MyDataset(X[ridxs[:sp]], y[ridxs[:sp]])\n",
        "  test_set = MyDataset(X[ridxs[sp:]], y[ridxs[sp:]])\n",
        "\n",
        "  train_loader = DataLoader(train_set, batch_size=64)\n",
        "  test_loader = DataLoader(test_set, batch_size=64)\n",
        "  return train_loader, test_loader"
      ]
    },
    {
      "cell_type": "markdown",
      "metadata": {
        "id": "92e_HU7WEj7N"
      },
      "source": [
        "### CBOW 2 with Hotel Dataset"
      ]
    },
    {
      "cell_type": "code",
      "execution_count": 81,
      "metadata": {
        "id": "qMORjhC9lxb9"
      },
      "outputs": [],
      "source": [
        "logging.basicConfig(filename='training_hotel2.log', level=logging.INFO, format='%(asctime)s - %(name)s - %(levelname)s - %(message)s')\n",
        "train_loader, test_loader = createDataLoader(i_context_hotel_2, i_target_hotel_2)\n",
        "CONTEXT_SIZE = 2\n",
        "EMBEDDING_DIM = 50\n",
        "losses = []\n",
        "loss_function = nn.NLLLoss()\n",
        "CBOW2_hotel_model = CBOW(len(vocab_hotel), EMBEDDING_DIM, CONTEXT_SIZE).to(device)\n",
        "optimizer = optim.SGD(CBOW2_hotel_model.parameters(), lr=0.001)\n",
        "epochs = 12"
      ]
    },
    {
      "cell_type": "code",
      "execution_count": 82,
      "metadata": {
        "colab": {
          "base_uri": "https://localhost:8080/"
        },
        "id": "corfuBCLEj7N",
        "outputId": "97b9d32e-4223-4054-b070-951bf4f952c5"
      },
      "outputs": [
        {
          "name": "stdout",
          "output_type": "stream",
          "text": [
            "Epoch: 1 / 12 Loss: 0.4613 Time: 451.50s\n",
            "Epoch: 2 / 12 Loss: 0.0028 Time: 451.80s\n",
            "Epoch: 3 / 12 Loss: 0.0015 Time: 451.47s\n",
            "Epoch: 4 / 12 Loss: 0.0010 Time: 453.90s\n",
            "Epoch: 5 / 12 Loss: 0.0008 Time: 451.27s\n",
            "Epoch: 6 / 12 Loss: 0.0006 Time: 450.29s\n",
            "Epoch: 7 / 12 Loss: 0.0005 Time: 450.82s\n",
            "Epoch: 8 / 12 Loss: 0.0004 Time: 452.95s\n",
            "Epoch: 9 / 12 Loss: 0.0004 Time: 454.65s\n",
            "Epoch: 10 / 12 Loss: 0.0003 Time: 473.36s\n",
            "Epoch: 11 / 12 Loss: 0.0003 Time: 488.79s\n",
            "Epoch: 12 / 12 Loss: 0.0003 Time: 477.94s\n"
          ]
        }
      ],
      "source": [
        "for epoch in range(epochs):\n",
        "    total_loss = 0\n",
        "    start_time = time.time()\n",
        "    for batch_num, (i_context, i_target) in enumerate(train_loader):\n",
        "        # Torch accumulates gradients. Before passing in a\n",
        "        # new instance, zero out the gradients from the old instance\n",
        "        CBOW2_hotel_model.zero_grad()\n",
        "\n",
        "        # Run the forward pass, getting log probabilities over next words\n",
        "        log_probs = CBOW2_hotel_model(i_context)\n",
        "\n",
        "        # Compute loss function.\n",
        "        loss = loss_function(log_probs, i_target)\n",
        "\n",
        "        # Do the backward pass and update the gradient\n",
        "        loss.backward()\n",
        "        optimizer.step()\n",
        "\n",
        "        total_loss += loss.item()\n",
        "\n",
        "    # Get the Python number from a 1-element Tensor by calling tensor.item()\n",
        "    info = f\"Epoch: {epoch + 1} / {epochs} Loss: {total_loss / len(train_loader):.4f} \\\n",
        "Time: {time.time() - start_time:.2f}s\"\n",
        "    print(info)\n",
        "    logging.info(info)\n",
        "torch.save(CBOW2_hotel_model.state_dict(), f'CBOW2_hotel_model_{epochs}.pth')"
      ]
    },
    {
      "cell_type": "code",
      "execution_count": 84,
      "metadata": {
        "colab": {
          "base_uri": "https://localhost:8080/"
        },
        "id": "3Pfj4ceVok9z",
        "outputId": "f6659b02-9f41-4450-bb2c-61963d893555"
      },
      "outputs": [
        {
          "data": {
            "text/plain": [
              "0.0"
            ]
          },
          "execution_count": 84,
          "metadata": {},
          "output_type": "execute_result"
        }
      ],
      "source": [
        "corr = 0\n",
        "\n",
        "with torch.no_grad():  # Disable gradient calculation\n",
        "    for i_context, i_target in test_loader:\n",
        "        log_probs = CBOW2_hotel_model(i_context)\n",
        "        _, predicted = torch.max(log_probs, 1)\n",
        "\n",
        "        # print(list(vocab_hotel)[predicted[0]], list(vocab_hotel)[i_target[0]], [list(vocab_hotel)[id] for id in i_context[0]])\n",
        "        corr += (predicted == i_target).sum().item()\n",
        "\n",
        "total = len(test_loader) * test_loader.batch_size\n",
        "\n",
        "accuracy = round(corr / total, 4)\n",
        "accuracy"
      ]
    },
    {
      "cell_type": "code",
      "execution_count": 85,
      "metadata": {},
      "outputs": [
        {
          "data": {
            "text/plain": [
              "1.0"
            ]
          },
          "execution_count": 85,
          "metadata": {},
          "output_type": "execute_result"
        }
      ],
      "source": [
        "corr = 0\n",
        "\n",
        "with torch.no_grad():  # Disable gradient calculation\n",
        "    for i_context, i_target in train_loader:\n",
        "        log_probs = CBOW2_hotel_model(i_context)\n",
        "        _, predicted = torch.max(log_probs, 1)\n",
        "\n",
        "        # print(list(vocab_hotel)[predicted[0]], list(vocab_hotel)[i_target[0]], [list(vocab_hotel)[id] for id in i_context[0]])\n",
        "        corr += (predicted == i_target).sum().item()\n",
        "\n",
        "total = len(train_loader) * train_loader.batch_size\n",
        "\n",
        "accuracy = round(corr / total, 4)\n",
        "accuracy"
      ]
    },
    {
      "cell_type": "markdown",
      "metadata": {
        "id": "kzeWf-8OYx8q"
      },
      "source": [
        "### CBOW 5 with Hotel Dataset"
      ]
    },
    {
      "cell_type": "code",
      "execution_count": 63,
      "metadata": {
        "id": "jJc2k0cJtoMF"
      },
      "outputs": [],
      "source": [
        "logging.basicConfig(filename='training_hotel5.log', level=logging.INFO, format='%(asctime)s - %(name)s - %(levelname)s - %(message)s')\n",
        "train_loader, test_loader = createDataLoader(i_context_hotel_5, i_target_hotel_5)\n",
        "CONTEXT_SIZE = 5\n",
        "EMBEDDING_DIM = 50\n",
        "losses = []\n",
        "loss_function = nn.NLLLoss()\n",
        "CBOW5_hotel_model = CBOW(len(vocab_hotel), EMBEDDING_DIM, CONTEXT_SIZE).to(device)\n",
        "optimizer = optim.SGD(CBOW5_hotel_model.parameters(), lr=0.001)\n",
        "epochs = 12"
      ]
    },
    {
      "cell_type": "code",
      "execution_count": 64,
      "metadata": {
        "colab": {
          "base_uri": "https://localhost:8080/"
        },
        "id": "0tyoJu9yYvwM",
        "outputId": "d5206012-9bc9-4f19-dc0f-875b083e6815"
      },
      "outputs": [
        {
          "name": "stdout",
          "output_type": "stream",
          "text": [
            "Epoch: 1 / 12 Loss: 10.7536 Time: 34.60s\n",
            "Epoch: 2 / 12 Loss: 10.3630 Time: 34.81s\n",
            "Epoch: 3 / 12 Loss: 9.8835 Time: 34.83s\n",
            "Epoch: 4 / 12 Loss: 9.4704 Time: 34.92s\n",
            "Epoch: 5 / 12 Loss: 9.1407 Time: 34.93s\n",
            "Epoch: 6 / 12 Loss: 8.8752 Time: 35.89s\n",
            "Epoch: 7 / 12 Loss: 8.6692 Time: 34.80s\n",
            "Epoch: 8 / 12 Loss: 8.5112 Time: 34.79s\n",
            "Epoch: 9 / 12 Loss: 8.3899 Time: 34.88s\n",
            "Epoch: 10 / 12 Loss: 8.2934 Time: 34.94s\n",
            "Epoch: 11 / 12 Loss: 8.2134 Time: 35.19s\n",
            "Epoch: 12 / 12 Loss: 8.1455 Time: 35.90s\n",
            "[141291.49048137665, 136159.42765903473, 129859.75561237335, 124432.1491651535, 120099.86243057251, 116610.79934835434, 113904.08239984512, 111829.03648710251, 110235.42389297485, 108967.0970029831, 107915.43462085724, 107023.9991517067]\n"
          ]
        }
      ],
      "source": [
        "for epoch in range(epochs):\n",
        "    total_loss = 0\n",
        "    start_time = time.time()\n",
        "    for batch_num, (i_context, i_target) in enumerate(train_loader):\n",
        "\n",
        "        # Torch accumulates gradients. Before passing in a\n",
        "        # new instance, zero out the gradients from the old instance\n",
        "        CBOW5_hotel_model.zero_grad()\n",
        "\n",
        "        # Run the forward pass, getting log probabilities over next words\n",
        "        log_probs = CBOW5_hotel_model(i_context)\n",
        "\n",
        "        # Compute loss function.\n",
        "        loss = loss_function(log_probs, i_target)\n",
        "\n",
        "        # Do the backward pass and update the gradient\n",
        "        loss.backward()\n",
        "        optimizer.step()\n",
        "\n",
        "        total_loss += loss.item()\n",
        "    info = f\"Epoch: {epoch + 1} / {epochs} Loss: {total_loss / len(train_loader):.4f} \\\n",
        "Time: {time.time() - start_time:.2f}s\"\n",
        "    print(info)\n",
        "    logging.info(info)\n",
        "#     losses.append(total_loss)\n",
        "# print(losses)  # The loss decreased every iteration over the training data!\n",
        "torch.save(CBOW5_hotel_model.state_dict(), 'CBOW5_hotel_model.pth')"
      ]
    },
    {
      "cell_type": "code",
      "execution_count": 65,
      "metadata": {
        "colab": {
          "base_uri": "https://localhost:8080/"
        },
        "id": "qonXKqNy2-bh",
        "outputId": "58eb3ef0-8dc1-483e-cc08-935cf4fa84eb"
      },
      "outputs": [
        {
          "data": {
            "text/plain": [
              "0.0371"
            ]
          },
          "execution_count": 65,
          "metadata": {},
          "output_type": "execute_result"
        }
      ],
      "source": [
        "corr = 0\n",
        "\n",
        "with torch.no_grad():  # Disable gradient calculation\n",
        "    for i_context, i_target in test_loader:\n",
        "        log_probs = CBOW5_hotel_model(i_context)\n",
        "        _, predicted = torch.max(log_probs, 1)\n",
        "\n",
        "        # print(list(vocab_hotel)[predicted[0]], list(vocab_hotel)[i_target[0]], [list(vocab_hotel)[id] for id in i_context[0]])\n",
        "        corr += (predicted == i_target).sum().item()\n",
        "\n",
        "total = len(test_loader) * test_loader.batch_size\n",
        "\n",
        "accuracy = round(corr / total, 4)\n",
        "accuracy"
      ]
    },
    {
      "cell_type": "markdown",
      "metadata": {
        "id": "VLVLqs2fEj7O"
      },
      "source": [
        "### CBOW 2 with Scifi Dataset"
      ]
    },
    {
      "cell_type": "code",
      "execution_count": 61,
      "metadata": {
        "id": "Qvtm42EKud07"
      },
      "outputs": [],
      "source": [
        "logging.basicConfig(filename='training_scifi.log', level=logging.INFO, format='%(asctime)s - %(name)s - %(levelname)s - %(message)s')\n",
        "train_loader, test_loader = createDataLoader(i_context_scifi, i_target_scifi)\n",
        "CONTEXT_SIZE = 2\n",
        "EMBEDDING_DIM = 50\n",
        "losses = []\n",
        "loss_function = nn.NLLLoss()\n",
        "CBOW2_scifi_model = CBOW(len(vocab_scifi), EMBEDDING_DIM, CONTEXT_SIZE).to(device)\n",
        "optimizer = optim.SGD(CBOW2_scifi_model.parameters(), lr=0.001)\n",
        "epochs = 3"
      ]
    },
    {
      "cell_type": "code",
      "execution_count": 62,
      "metadata": {
        "colab": {
          "base_uri": "https://localhost:8080/"
        },
        "id": "C7v6jND-Ej7O",
        "outputId": "55e47afa-9d5b-4d74-a043-64efe1e07e71"
      },
      "outputs": [
        {
          "name": "stdout",
          "output_type": "stream",
          "text": [
            "Epoch: 1 / 3 Loss: 9.0410 Time: 501.97s\n",
            "Epoch: 2 / 3 Loss: 7.6213 Time: 503.82s\n",
            "Epoch: 3 / 3 Loss: 7.2408 Time: 501.94s\n",
            "[860257.098921299, 725172.1176390648, 688966.0479745865]\n"
          ]
        }
      ],
      "source": [
        "for epoch in range(epochs):\n",
        "    total_loss = 0\n",
        "    start_time = time.time()\n",
        "    for batch_num, (i_context, i_target) in enumerate(train_loader):\n",
        "\n",
        "        # Torch accumulates gradients. Before passing in a\n",
        "        # new instance, zero out the gradients from the old instance\n",
        "        CBOW2_scifi_model.zero_grad()\n",
        "\n",
        "        # Run the forward pass, getting log probabilities over next words\n",
        "        log_probs = CBOW2_scifi_model(i_context)\n",
        "\n",
        "        # Compute loss function.\n",
        "        loss = loss_function(log_probs, i_target)\n",
        "\n",
        "        # Do the backward pass and update the gradient\n",
        "        loss.backward()\n",
        "        optimizer.step()\n",
        "\n",
        "        total_loss += loss.item()\n",
        "\n",
        "    # Get the Python number from a 1-element Tensor by calling tensor.item()\n",
        "    info = f\"Epoch: {epoch + 1} / {epochs} Loss: {total_loss / len(train_loader):.4f} \\\n",
        "Time: {time.time() - start_time:.2f}s\"\n",
        "    print(info)\n",
        "    logging.info(info)\n",
        "    losses.append(total_loss)\n",
        "print(losses)  # The loss decreased every iteration over the training data!\n",
        "torch.save(CBOW2_scifi_model.state_dict(), 'CBOW2_scifi_model.pth')"
      ]
    },
    {
      "cell_type": "code",
      "execution_count": 67,
      "metadata": {
        "colab": {
          "base_uri": "https://localhost:8080/"
        },
        "id": "h-lrr1lp3IXJ",
        "outputId": "a63ea1b7-386e-4a27-d822-8d30d88b149d"
      },
      "outputs": [
        {
          "data": {
            "text/plain": [
              "0.1074"
            ]
          },
          "execution_count": 67,
          "metadata": {},
          "output_type": "execute_result"
        }
      ],
      "source": [
        "corr = 0\n",
        "with torch.no_grad():  # Disable gradient calculation\n",
        "    for i_context, i_target in test_loader:\n",
        "        log_probs = CBOW2_scifi_model(i_context)\n",
        "        _, predicted = torch.max(log_probs, 1)\n",
        "\n",
        "        # print(list(vocab_hotel)[predicted[0]], list(vocab_hotel)[i_target[0]], [list(vocab_hotel)[id] for id in i_context[0]])\n",
        "        corr += (predicted == i_target).sum().item()\n",
        "\n",
        "total = len(test_loader) * test_loader.batch_size\n",
        "\n",
        "accuracy = round(corr / total, 4)\n",
        "accuracy"
      ]
    },
    {
      "cell_type": "markdown",
      "metadata": {},
      "source": [
        "# Part 2 Embeddings Evaluation"
      ]
    },
    {
      "cell_type": "code",
      "execution_count": 165,
      "metadata": {},
      "outputs": [
        {
          "data": {
            "text/plain": [
              "CBOW(\n",
              "  (embeddings): Embedding(51839, 50)\n",
              "  (linear1): Linear(in_features=200, out_features=128, bias=True)\n",
              "  (linear2): Linear(in_features=128, out_features=51839, bias=True)\n",
              ")"
            ]
          },
          "execution_count": 165,
          "metadata": {},
          "output_type": "execute_result"
        }
      ],
      "source": [
        "# Run here only if you load the model from directory.\n",
        "# If you have a model trained in this jupyter notebook kernel, move ahead. \n",
        "\n",
        "# CBOW2_hotel_model = CBOW(len(vocab_hotel), 50, 2).to(device)\n",
        "# CBOW2_hotel_model.load_state_dict(torch.load('CBOW2_hotel_model.pth', map_location=torch.device('cpu')))\n",
        "# CBOW2_hotel_model.eval()"
      ]
    },
    {
      "cell_type": "code",
      "execution_count": 87,
      "metadata": {},
      "outputs": [],
      "source": [
        "import torch.nn as nn\n",
        "\n",
        "def get_closest_word(word, net, word_to_index, vocabulary, topn=5, device=\"cpu\"):\n",
        "    net.eval()\n",
        "    word_distance = []\n",
        "    emb = net.embeddings\n",
        "    pdist = nn.PairwiseDistance()\n",
        "    i = word_to_index[word]\n",
        "    lookup_tensor_i = torch.tensor([i], dtype=torch.long).to(device)\n",
        "    v_i = emb(lookup_tensor_i)\n",
        "    for j in range(len(vocabulary)):\n",
        "        if j != i:\n",
        "            lookup_tensor_j = torch.tensor([j], dtype=torch.long).to(device)\n",
        "            v_j = emb(lookup_tensor_j)\n",
        "            word_distance.append((vocabulary[j], float(pdist(v_i, v_j))))\n",
        "            word_distance.sort(key=lambda x: x[1])\n",
        "    return word_distance[:topn]"
      ]
    },
    {
      "cell_type": "code",
      "execution_count": 132,
      "metadata": {},
      "outputs": [],
      "source": [
        "words = ' '.join(text_hotel['Review']).split()\n",
        "vocab_hotel = list(set(words))\n",
        "word_count =   {word: words.count(word) for word in vocab_hotel[:500]}\n",
        "word_rank = sorted(word_count.keys(), reverse=True, key= lambda x: word_count[x])"
      ]
    },
    {
      "cell_type": "code",
      "execution_count": 133,
      "metadata": {},
      "outputs": [
        {
          "data": {
            "text/plain": [
              "([('hotels', 2049),\n",
              "  ('guests', 1056),\n",
              "  ('extra', 894),\n",
              "  ('real', 564),\n",
              "  ('quick', 459),\n",
              "  ('superb', 393),\n",
              "  ('expectations', 308),\n",
              "  ('swimming', 277),\n",
              "  ('takes', 272),\n",
              "  ('etc', 233)],)"
            ]
          },
          "execution_count": 133,
          "metadata": {},
          "output_type": "execute_result"
        }
      ],
      "source": [
        "[(w, word_count[w]) for w in word_rank[:10]], "
      ]
    },
    {
      "cell_type": "code",
      "execution_count": 143,
      "metadata": {},
      "outputs": [
        {
          "data": {
            "text/plain": [
              "([('swing', 16),\n",
              "  ('rod', 15),\n",
              "  ('beutiful', 14),\n",
              "  ('outrageously', 14),\n",
              "  ('artus', 13),\n",
              "  ('subsequently', 13),\n",
              "  ('mimosas', 13),\n",
              "  ('cheery', 12),\n",
              "  ('ceremony', 12),\n",
              "  ('invaluable', 12),\n",
              "  ('goers', 12),\n",
              "  ('frogs', 12),\n",
              "  ('volley', 11),\n",
              "  ('trump', 11),\n",
              "  ('weigh', 11),\n",
              "  ('forms', 11),\n",
              "  ('talent', 10),\n",
              "  ('essentials', 10),\n",
              "  ('murano', 10),\n",
              "  ('cadran', 9)],)"
            ]
          },
          "execution_count": 143,
          "metadata": {},
          "output_type": "execute_result"
        }
      ],
      "source": [
        "[(w, word_count[w]) for w in word_rank[80:100]], "
      ]
    },
    {
      "cell_type": "code",
      "execution_count": 161,
      "metadata": {},
      "outputs": [],
      "source": [
        "chosen_words = ['hotel', 'guests', 'statements', 'takes', 'overcome', 'weigh', 'real', 'quick', 'cheery']\n",
        "s = f\"Chosen words:   \\n\\\n",
        "    nouns:  'hotel': {words.count('hotel')}, \\n\\\n",
        "            'guests': {words.count('guests')}, \\n\\\n",
        "            'statements': {words.count('statements')},\\n\\\n",
        "    verbs:  'takes': {words.count('takes')}, \\n\\\n",
        "            'overcome': {words.count('overcome')},\\n\\\n",
        "            'weigh': {words.count('weigh')},\\n\\\n",
        "    adjs:   'real': {words.count('real')}, \\n\\\n",
        "            'quick': {words.count('quick')},\\n\\\n",
        "            'cheery': {words.count('cheery')},\""
      ]
    },
    {
      "cell_type": "code",
      "execution_count": 162,
      "metadata": {},
      "outputs": [
        {
          "name": "stdout",
          "output_type": "stream",
          "text": [
            "Chosen words:   \n",
            "    nouns:  'hotel': 24529, \n",
            "            'guests': 1056, \n",
            "            'statements': 4,\n",
            "    verbs:  'takes': 272, \n",
            "            'overcome': 7,\n",
            "            'weigh': 11,\n",
            "    adjs:   'real': 564, \n",
            "            'quick': 459,\n",
            "            'cheery': 12,\n"
          ]
        }
      ],
      "source": [
        "print(s)"
      ]
    },
    {
      "cell_type": "code",
      "execution_count": 166,
      "metadata": {},
      "outputs": [],
      "source": [
        "chosen_words_neighbors = [get_closest_word(w, CBOW2_hotel_model, word_to_ix_hotel, vocab_hotel, device=\"mps\") for w in chosen_words]"
      ]
    },
    {
      "cell_type": "code",
      "execution_count": 167,
      "metadata": {},
      "outputs": [
        {
          "name": "stdout",
          "output_type": "stream",
          "text": [
            "hotel:[('complicate', 5.894118785858154), ('ivor', 6.060270309448242), ('1995', 6.177227973937988), ('filtration', 6.2042765617370605), ('path', 6.2997236251831055)]\n",
            "guests:[('wheelchair', 7.170873165130615), ('therapeutic', 7.434506416320801), ('horizons', 7.5423126220703125), ('sidewalks', 7.564052104949951), ('innkeepers', 7.581796646118164)]\n",
            "statements:[('immovable', 6.761836051940918), ('odeon', 6.7916388511657715), ('loadsof', 6.919468879699707), ('picky', 7.00703239440918), ('variables', 7.0185675621032715)]\n",
            "takes:[('wording', 5.869082927703857), ('robably', 6.316221237182617), ('barecelo', 6.470187664031982), ('plantations', 6.486098289489746), ('defintiely', 6.499187469482422)]\n",
            "overcome:[('sensitively', 6.903243064880371), ('grassy', 7.18086576461792), ('suare', 7.33463716506958), ('disserving', 7.339474201202393), ('robes', 7.344493865966797)]\n",
            "weigh:[('thur', 6.378139019012451), ('lirr', 6.460971832275391), ('cells', 6.46674919128418), ('pounced', 6.497954845428467), ('recap', 6.6437482833862305)]\n",
            "real:[('haggling', 6.4058518409729), ('stink', 6.700934410095215), ('sven', 6.737896919250488), ('us', 6.871857643127441), ('wihtout', 6.997311592102051)]\n",
            "quick:[('carnot', 6.182822227478027), ('tradidional', 6.2493085861206055), ('annerversay', 6.439723968505859), ('rake', 6.4479522705078125), ('radiator', 6.454554080963135)]\n",
            "cheery:[('boxroom', 5.525801181793213), ('enza', 5.671117782592773), ('tamarindo', 6.103565216064453), ('b12', 6.208085536956787), ('souvenier', 6.283431053161621)]\n"
          ]
        }
      ],
      "source": [
        "for i, w in enumerate(chosen_words):\n",
        "    print(f\"{w}:{chosen_words_neighbors[i]}\")"
      ]
    }
  ],
  "metadata": {
    "accelerator": "GPU",
    "colab": {
      "provenance": []
    },
    "kernelspec": {
      "display_name": "Python 3",
      "name": "python3"
    },
    "language_info": {
      "codemirror_mode": {
        "name": "ipython",
        "version": 3
      },
      "file_extension": ".py",
      "mimetype": "text/x-python",
      "name": "python",
      "nbconvert_exporter": "python",
      "pygments_lexer": "ipython3",
      "version": "3.7.16"
    }
  },
  "nbformat": 4,
  "nbformat_minor": 0
}
